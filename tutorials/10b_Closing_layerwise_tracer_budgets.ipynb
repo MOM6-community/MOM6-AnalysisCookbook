{
 "cells": [
  {
   "cell_type": "markdown",
   "metadata": {},
   "source": [
    "# Closing the mass budget within layers\n",
    "*Contributors:* [Graeme MacGilchrist](https://github.com/gmacgilchrist)  \n",
    "\n",
    "[This tutorial is a work-in-progress, and will be updated frequently.]  \n",
    "\n",
    "Transformation $G$ (see watermass transformation tutorial) represents a mass flux across layers of constant $\\lambda$. For a time-varying system within a fixed region ($\\mathscr{R}$) with boundaries in the ocean interior ($\\partial\\mathscr{R}_{int}$) and at the ocean surface ($\\delta\\mathscr{R}_{surf}$), $G$ will be balanced by temporal mass changes and mass transport across the fixed boundaries (see Section 2.3 in Groeskamp et al., 2019):\n",
    "\n",
    "$$ G = -\\frac{dM}{dt} - \\psi + W $$\n",
    "\n",
    "where\n",
    "\n",
    "$$M = \\iiint_{\\mathscr{R}(\\lambda'\\leq\\lambda)} \\rho dV\\,; \\quad \\psi = \\iint_{\\partial\\mathscr{R}_{int}(\\lambda'\\leq\\lambda)} (\\rho\\mathbf{u})\\cdot\\mathbf{\\hat{n}}dR\\,; \\quad W = \\iint_{\\partial\\mathscr{R}_{surf}(\\lambda'\\leq\\lambda)} \\rho F dR\\,,$$\n",
    "\n",
    "are, respectively, the total mass in the region, the mass flux across the interior ocean boundary ($\\mathbf{\\hat{n}}$ is normal to the boundary), and the mass flux across the ocean surface ($F$ is the local balance of air-sea and ice-sea volume fluxes), where each integration is performed over the region in which $\\lambda'\\leq\\lambda$.  \n",
    "\n",
    "Here, we evaluate each of the terms in this expression and assess how well the budget closes. Again, we consider the Baltic Sea test case. For this case, the lateral boundaries are closed, so that $\\psi=0$."
   ]
  },
  {
   "cell_type": "code",
   "execution_count": 2,
   "metadata": {},
   "outputs": [],
   "source": [
    "import xarray as xr\n",
    "import numpy as np\n",
    "import matplotlib.pyplot as plt\n",
    "from xgcm import Grid\n",
    "# Set figure font size\n",
    "plt.rcParams.update({'font.size':14})"
   ]
  },
  {
   "cell_type": "code",
   "execution_count": 3,
   "metadata": {},
   "outputs": [],
   "source": [
    "# Load data on native grid\n",
    "rootdir = '/archive/gam/MOM6-examples/ice_ocean_SIS2/Baltic_OM4_025/1yr/'\n",
    "gridname = 'native'\n",
    "prefix = '19000101.ocean_'\n",
    "# Diagnostics were saved into different files\n",
    "suffixs = ['1900','heat','salt']\n",
    "ds = xr.Dataset()\n",
    "for suffix in suffixs:\n",
    "    filename = prefix+gridname+'_'+suffix+'*.nc'\n",
    "    dsnow = xr.open_mfdataset(rootdir+filename)\n",
    "    ds = xr.merge([ds,dsnow])\n",
    "# Load snapshot data\n",
    "suffix = 'snap'\n",
    "filename = prefix+gridname+'_'+suffix+'*.nc'\n",
    "snap = xr.open_mfdataset(rootdir+filename)\n",
    "#  Load grid\n",
    "gridname = '19000101.ocean_static.nc'\n",
    "grid = xr.open_dataset(rootdir+gridname).squeeze()\n",
    "\n",
    "# Specify the diffusive tendency terms\n",
    "processes=['boundary forcing','vertical diffusion','neutral diffusion','frazil ice','internal heat']\n",
    "terms = {}\n",
    "terms['heat'] = {'boundary forcing':'boundary_forcing_heat_tendency',\n",
    "         'vertical diffusion':'opottempdiff',\n",
    "         'neutral diffusion':'opottemppmdiff',\n",
    "         'frazil ice':'frazil_heat_tendency',\n",
    "         'internal heat':'internal_heat_heat_tendency'}\n",
    "# Specify the tracer range and bin widths (\\delta\\lambda) for the calculation\n",
    "delta_l = 0.2\n",
    "lmin = -4\n",
    "lmax = 30\n",
    "bins = np.arange(lmin,lmax,delta_l)\n",
    "# Specify constants for the reference density and the specific heat capacity\n",
    "rho0 = 1035.\n",
    "Cp = 3992."
   ]
  },
  {
   "cell_type": "code",
   "execution_count": 4,
   "metadata": {},
   "outputs": [],
   "source": [
    "# Build an xgcm grid object\n",
    "# Create a pseudo-grid in the vertical\n",
    "grid['zl'] = ds['zl']\n",
    "grid['zi'] = ds['zi']\n",
    "grid['dzt'] = grid['zl'].copy(data=grid['zi'].diff('zi'))\n",
    "grid = grid.squeeze() # Get rid of any remnant time variables\n",
    "\n",
    "# Fill in nans with zeros\n",
    "grid['dxt'] = grid['dxt'].fillna(0.)\n",
    "grid['dyt'] = grid['dyt'].fillna(0.)\n",
    "grid['dzt'] = grid['dzt'].fillna(0.)\n",
    "grid['areacello'] = grid['areacello'].fillna(0.)\n",
    "grid['volcello'] = (ds['thkcello']*grid['areacello']).fillna(0.)\n",
    "metrics = {\n",
    "    ('X',): ['dxt','dxCu','dxCv'], # X distances\n",
    "    ('Y',): ['dyt','dyCu','dyCv'], # Y distances\n",
    "    ('Z',): ['dzt'], # Z distances\n",
    "    ('X', 'Y'): ['areacello'], # Areas\n",
    "    ('X', 'Y', 'Z'): ['volcello'], # Volumes\n",
    "}\n",
    "coords={'X': {'center': 'xh', 'right': 'xq'},\n",
    "        'Y': {'center': 'yh', 'right': 'yq'},\n",
    "        'Z': {'center': 'zl', 'outer': 'zi'} }\n",
    "xgrid = Grid(grid, coords=coords, metrics=metrics, periodic=['X'])\n",
    "\n",
    "# Interpolate the temperature coordinate to the cell interfaces\n",
    "ds['temp_i'] = xgrid.interp(ds['temp'],'Z',boundary='extrapolate').chunk({'zi':-1})\n",
    "# Likewise for the snapshot temperature\n",
    "snap['temp_i'] = xgrid.interp(snap['temp'],'Z',boundary='extrapolate').chunk({'zi':-1})"
   ]
  },
  {
   "cell_type": "markdown",
   "metadata": {},
   "source": [
    "## Budget in temperature layers"
   ]
  },
  {
   "cell_type": "markdown",
   "metadata": {},
   "source": [
    "### Calculating $G$"
   ]
  },
  {
   "cell_type": "code",
   "execution_count": 5,
   "metadata": {},
   "outputs": [],
   "source": [
    "# Transform each of the diffusive tendency terms onto a temperature grid\n",
    "# And integrate in each temperature layer and divide by \\delta temp\n",
    "G = xr.Dataset()\n",
    "for process in processes:\n",
    "    term = terms['heat'][process]\n",
    "    var_on_temp = xgrid.transform(ds[term],'Z',target=bins,target_data=ds['temp_i'],method='conservative')\n",
    "    G[process] = ((rho0*var_on_temp/(rho0*Cp))*grid['areacello']).sum(['xh','yh'])/np.diff(bins)\n",
    "# Sum up the separate processes\n",
    "G['total'] = xr.zeros_like(G[processes[0]])\n",
    "for process in processes:\n",
    "    G['total']+=G[process]"
   ]
  },
  {
   "cell_type": "markdown",
   "metadata": {},
   "source": [
    "### Calculating $\\frac{dM}{dt}$\n",
    "\n",
    "[Under construction]\n",
    "\n",
    "To assess the temporal change of a volume defined by a moving contour, we need to track that contour over time. Since we are necessarily working with offline data in this instance, it is only possible to evaluate $\\frac{dM}{dt}$ from snapshots of the temperature field at the start and end of the averaging period.\n",
    "\n",
    "#### Calculate M in each layer and integrate\n",
    "At this step, you need to be particularly careful in the alignment of the contours. The calculation of $G$ above evaluates the transformation across contours in the middle of `bins`. As such, the corresponding $M$ should be the cumulative sum of volumes in layers greater than the central contour. As such, we redefine the `bins` for the transformation of the volume."
   ]
  },
  {
   "cell_type": "code",
   "execution_count": 6,
   "metadata": {},
   "outputs": [],
   "source": [
    "# Transform snapshot mass onto snapshot temperature grid\n",
    "m_on_temp = xgrid.transform(rho0*snap['thkcello'],\n",
    "                               'Z',\n",
    "                               target=G['temp_i'],\n",
    "                               target_data=snap['temp_i'],\n",
    "                               method='conservative')\n",
    "# Integrate\n",
    "M_on_temp = (m_on_temp*grid['areacello']).sum(['xh','yh'])"
   ]
  },
  {
   "cell_type": "code",
   "execution_count": 7,
   "metadata": {},
   "outputs": [],
   "source": [
    "# To integrate for all volume with temperature greater than a certain value,\n",
    "# take cumulative sum and reassign the coordinates to align with G\n",
    "M_on_temp_cumsum = xr.concat(\n",
    "    [xr.zeros_like(M_on_temp.isel({'temp_i':0})),M_on_temp.cumsum('temp_i')],dim='temp_i')\n",
    "# We wish to have the total mass for the volume with temperature greater than that contour,\n",
    "# So take away the total sum from the cumulative sum to reverse the direction\n",
    "M = (M_on_temp.sum('temp_i')-M_on_temp_cumsum).assign_coords({'temp_i':G['temp_i']})"
   ]
  },
  {
   "cell_type": "markdown",
   "metadata": {},
   "source": [
    "#### Take the derivative in time"
   ]
  },
  {
   "cell_type": "code",
   "execution_count": 8,
   "metadata": {},
   "outputs": [],
   "source": [
    "dMdt = M.diff('time')/(M['time'].diff('time').astype('float')*1E-9)\n",
    "# Assign the coordinates to align with G (centre of the averaging period)\n",
    "dMdt = dMdt.assign_coords({'time':G['time'][1:]})"
   ]
  },
  {
   "cell_type": "markdown",
   "metadata": {},
   "source": [
    "### Calculating $W$\n",
    "We can get the surface mass flux from the boundary thickness fluxes. Integrate just as we did for $M$."
   ]
  },
  {
   "cell_type": "code",
   "execution_count": 9,
   "metadata": {},
   "outputs": [],
   "source": [
    "# Transform snapshot mass onto snapshot temperature grid\n",
    "w_on_temp = xgrid.transform(rho0*ds['boundary_forcing_h_tendency'],\n",
    "                               'Z',\n",
    "                               target=G['temp_i'],\n",
    "                               target_data=ds['temp_i'],\n",
    "                               method='conservative')\n",
    "# Integrate\n",
    "W_on_temp = (w_on_temp*grid['areacello']).sum(['xh','yh'])"
   ]
  },
  {
   "cell_type": "code",
   "execution_count": 10,
   "metadata": {},
   "outputs": [],
   "source": [
    "# To integrate for all volume with temperature greater than a certain value,\n",
    "# take cumulative sum and reassign the coordinates to align with G\n",
    "W_on_temp_cumsum = xr.concat(\n",
    "    [xr.zeros_like(W_on_temp.isel({'temp_i':0})),W_on_temp.cumsum('temp_i')],dim='temp_i')\n",
    "# We wish to have the total mass for the volume with temperature greater than that contour,\n",
    "# So take away the total sum from the cumulative sum to reverse the direction\n",
    "W = (W_on_temp.sum('temp_i')-W_on_temp_cumsum).assign_coords({'temp_i':G['temp_i']})"
   ]
  },
  {
   "cell_type": "markdown",
   "metadata": {},
   "source": [
    "### Plot the budget\n",
    "We note that in the time-mean, as plotted here, the budget does not close. In particular, for the warm waters, there is non-zero time-mean watermass transformation, whereas the rate of change of mass goes to zero. This is likely to arise from either numerical mixing in the model, errors in the discrete nature of the water mass transformation calculatioon, or errors from the use of temporally-averaged offline diagnostic fields."
   ]
  },
  {
   "cell_type": "code",
   "execution_count": 11,
   "metadata": {},
   "outputs": [
    {
     "data": {
      "text/plain": [
       "<matplotlib.legend.Legend at 0x2ba8aae03ca0>"
      ]
     },
     "execution_count": 11,
     "metadata": {},
     "output_type": "execute_result"
    },
    {
     "data": {
      "image/png": "[encoded data removed]",
      "text/plain": [
       "<Figure size 864x288 with 1 Axes>"
      ]
     },
     "metadata": {
      "needs_background": "light"
     },
     "output_type": "display_data"
    }
   ],
   "source": [
    "# Remember that G and W have one more timestep than dMdt\n",
    "# So we select a time range to be sure that we are getting\n",
    "# the same points.\n",
    "select = {'time':slice('1900-02-01','1900-12-31')}\n",
    "\n",
    "t=0\n",
    "fig,ax = plt.subplots(figsize=(12,4))\n",
    "ax.plot(G['temp_i'],G['total'].sel(select).mean('time'),color='tab:blue',label='G')\n",
    "ax.plot(dMdt['temp_i'],dMdt.sel(select).mean('time'),color='tab:orange',label='dMdt')\n",
    "ax.plot(W['temp_i'],W.sel(select).mean('time'),color='tab:green',label='W')\n",
    "ax.legend()"
   ]
  }
 ],
 "metadata": {
  "kernelspec": {
   "display_name": "Python 3",
   "language": "python",
   "name": "python3"
  },
  "language_info": {
   "codemirror_mode": {
    "name": "ipython",
    "version": 3
   },
   "file_extension": ".py",
   "mimetype": "text/x-python",
   "name": "python",
   "nbconvert_exporter": "python",
   "pygments_lexer": "ipython3",
   "version": "3.8.5"
  }
 },
 "nbformat": 4,
 "nbformat_minor": 4
}
