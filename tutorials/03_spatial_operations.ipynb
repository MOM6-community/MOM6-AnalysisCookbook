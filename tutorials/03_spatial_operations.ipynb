{
 "cells": [
  {
   "cell_type": "markdown",
   "metadata": {},
   "source": [
    "# Spatial Operations"
   ]
  },
  {
   "cell_type": "markdown",
   "metadata": {},
   "source": [
    "This notebook shows how to do some spatial operations. We focus here on averaging, since the sums can easily be infered."
   ]
  },
  {
   "cell_type": "code",
   "execution_count": 1,
   "metadata": {},
   "outputs": [],
   "source": [
    "import xarray as xr\n",
    "import numpy as np"
   ]
  },
  {
   "cell_type": "code",
   "execution_count": 2,
   "metadata": {},
   "outputs": [],
   "source": [
    "import warnings\n",
    "warnings.filterwarnings(\"ignore\")"
   ]
  },
  {
   "cell_type": "code",
   "execution_count": 3,
   "metadata": {},
   "outputs": [],
   "source": [
    "%matplotlib inline"
   ]
  },
  {
   "cell_type": "code",
   "execution_count": 4,
   "metadata": {},
   "outputs": [],
   "source": [
    "dataurl = 'http://35.188.34.63:8080/thredds/dodsC/OM4p5/'\n",
    "\n",
    "ds = xr.open_dataset(f'{dataurl}/ocean_monthly_z.200301-200712.nc4',\n",
    "                     chunks={'time':1, 'z_l': 1})"
   ]
  },
  {
   "cell_type": "code",
   "execution_count": 5,
   "metadata": {},
   "outputs": [
    {
     "data": {
      "text/html": [
       "<pre>&lt;xarray.Dataset&gt;\n",
       "Dimensions:       (nv: 2, time: 60, xh: 720, xq: 720, yh: 576, yq: 576, z_i: 36, z_l: 35)\n",
       "Coordinates:\n",
       "  * nv            (nv) float64 1.0 2.0\n",
       "  * xh            (xh) float64 -299.8 -299.2 -298.8 -298.2 ... 58.75 59.25 59.75\n",
       "  * xq            (xq) float64 -299.5 -299.0 -298.5 -298.0 ... 59.0 59.5 60.0\n",
       "  * yh            (yh) float64 -77.91 -77.72 -77.54 -77.36 ... 89.47 89.68 89.89\n",
       "  * yq            (yq) float64 -77.82 -77.63 -77.45 -77.26 ... 89.58 89.79 90.0\n",
       "  * z_i           (z_i) float64 0.0 5.0 15.0 25.0 ... 5.75e+03 6.25e+03 6.75e+03\n",
       "  * z_l           (z_l) float64 2.5 10.0 20.0 32.5 ... 5.5e+03 6e+03 6.5e+03\n",
       "  * time          (time) object 2003-01-16 12:00:00 ... 2007-12-16 12:00:00\n",
       "Data variables:\n",
       "    average_DT    (time) timedelta64[ns] dask.array&lt;chunksize=(1,), meta=np.ndarray&gt;\n",
       "    average_T1    (time) datetime64[ns] dask.array&lt;chunksize=(1,), meta=np.ndarray&gt;\n",
       "    average_T2    (time) datetime64[ns] dask.array&lt;chunksize=(1,), meta=np.ndarray&gt;\n",
       "    Coriolis      (yq, xq) float32 dask.array&lt;chunksize=(576, 720), meta=np.ndarray&gt;\n",
       "    areacello     (yh, xh) float32 dask.array&lt;chunksize=(576, 720), meta=np.ndarray&gt;\n",
       "    areacello_bu  (yq, xq) float32 dask.array&lt;chunksize=(576, 720), meta=np.ndarray&gt;\n",
       "    areacello_cu  (yh, xq) float32 dask.array&lt;chunksize=(576, 720), meta=np.ndarray&gt;\n",
       "    areacello_cv  (yq, xh) float32 dask.array&lt;chunksize=(576, 720), meta=np.ndarray&gt;\n",
       "    deptho        (yh, xh) float32 dask.array&lt;chunksize=(576, 720), meta=np.ndarray&gt;\n",
       "    dxCu          (yh, xq) float32 dask.array&lt;chunksize=(576, 720), meta=np.ndarray&gt;\n",
       "    dxCv          (yq, xh) float32 dask.array&lt;chunksize=(576, 720), meta=np.ndarray&gt;\n",
       "    dxt           (yh, xh) float32 dask.array&lt;chunksize=(576, 720), meta=np.ndarray&gt;\n",
       "    dyCu          (yh, xq) float32 dask.array&lt;chunksize=(576, 720), meta=np.ndarray&gt;\n",
       "    dyCv          (yq, xh) float32 dask.array&lt;chunksize=(576, 720), meta=np.ndarray&gt;\n",
       "    dyt           (yh, xh) float32 dask.array&lt;chunksize=(576, 720), meta=np.ndarray&gt;\n",
       "    geolat        (yh, xh) float32 dask.array&lt;chunksize=(576, 720), meta=np.ndarray&gt;\n",
       "    geolat_c      (yq, xq) float32 dask.array&lt;chunksize=(576, 720), meta=np.ndarray&gt;\n",
       "    geolat_u      (yh, xq) float32 dask.array&lt;chunksize=(576, 720), meta=np.ndarray&gt;\n",
       "    geolat_v      (yq, xh) float32 dask.array&lt;chunksize=(576, 720), meta=np.ndarray&gt;\n",
       "    geolon        (yh, xh) float32 dask.array&lt;chunksize=(576, 720), meta=np.ndarray&gt;\n",
       "    geolon_c      (yq, xq) float32 dask.array&lt;chunksize=(576, 720), meta=np.ndarray&gt;\n",
       "    geolon_u      (yh, xq) float32 dask.array&lt;chunksize=(576, 720), meta=np.ndarray&gt;\n",
       "    geolon_v      (yq, xh) float32 dask.array&lt;chunksize=(576, 720), meta=np.ndarray&gt;\n",
       "    hfgeou        (yh, xh) float32 dask.array&lt;chunksize=(576, 720), meta=np.ndarray&gt;\n",
       "    sftof         (yh, xh) float32 dask.array&lt;chunksize=(576, 720), meta=np.ndarray&gt;\n",
       "    thkcello      (z_l, yh, xh) float32 dask.array&lt;chunksize=(1, 576, 720), meta=np.ndarray&gt;\n",
       "    wet           (yh, xh) float32 dask.array&lt;chunksize=(576, 720), meta=np.ndarray&gt;\n",
       "    wet_c         (yq, xq) float32 dask.array&lt;chunksize=(576, 720), meta=np.ndarray&gt;\n",
       "    wet_u         (yh, xq) float32 dask.array&lt;chunksize=(576, 720), meta=np.ndarray&gt;\n",
       "    wet_v         (yq, xh) float32 dask.array&lt;chunksize=(576, 720), meta=np.ndarray&gt;\n",
       "    so            (time, z_l, yh, xh) float32 dask.array&lt;chunksize=(1, 1, 576, 720), meta=np.ndarray&gt;\n",
       "    time_bnds     (time, nv) timedelta64[ns] dask.array&lt;chunksize=(1, 2), meta=np.ndarray&gt;\n",
       "    thetao        (time, z_l, yh, xh) float32 dask.array&lt;chunksize=(1, 1, 576, 720), meta=np.ndarray&gt;\n",
       "    umo           (time, z_l, yh, xq) float32 dask.array&lt;chunksize=(1, 1, 576, 720), meta=np.ndarray&gt;\n",
       "    uo            (time, z_l, yh, xq) float32 dask.array&lt;chunksize=(1, 1, 576, 720), meta=np.ndarray&gt;\n",
       "    vmo           (time, z_l, yq, xh) float32 dask.array&lt;chunksize=(1, 1, 576, 720), meta=np.ndarray&gt;\n",
       "    vo            (time, z_l, yq, xh) float32 dask.array&lt;chunksize=(1, 1, 576, 720), meta=np.ndarray&gt;\n",
       "    volcello      (time, z_l, yh, xh) float32 dask.array&lt;chunksize=(1, 1, 576, 720), meta=np.ndarray&gt;\n",
       "    zos           (time, yh, xh) float32 dask.array&lt;chunksize=(1, 576, 720), meta=np.ndarray&gt;\n",
       "Attributes:\n",
       "    filename:                        ocean_monthly.200301-200712.zos.nc\n",
       "    title:                           OM4p5_IAF_BLING_CFC_abio_csf_mle200\n",
       "    associated_files:                areacello: 20030101.ocean_static.nc\n",
       "    grid_type:                       regular\n",
       "    grid_tile:                       N/A\n",
       "    external_variables:              areacello\n",
       "    DODS_EXTRA.Unlimited_Dimension:  time</pre>"
      ],
      "text/plain": [
       "<xarray.Dataset>\n",
       "Dimensions:       (nv: 2, time: 60, xh: 720, xq: 720, yh: 576, yq: 576, z_i: 36, z_l: 35)\n",
       "Coordinates:\n",
       "  * nv            (nv) float64 1.0 2.0\n",
       "  * xh            (xh) float64 -299.8 -299.2 -298.8 -298.2 ... 58.75 59.25 59.75\n",
       "  * xq            (xq) float64 -299.5 -299.0 -298.5 -298.0 ... 59.0 59.5 60.0\n",
       "  * yh            (yh) float64 -77.91 -77.72 -77.54 -77.36 ... 89.47 89.68 89.89\n",
       "  * yq            (yq) float64 -77.82 -77.63 -77.45 -77.26 ... 89.58 89.79 90.0\n",
       "  * z_i           (z_i) float64 0.0 5.0 15.0 25.0 ... 5.75e+03 6.25e+03 6.75e+03\n",
       "  * z_l           (z_l) float64 2.5 10.0 20.0 32.5 ... 5.5e+03 6e+03 6.5e+03\n",
       "  * time          (time) object 2003-01-16 12:00:00 ... 2007-12-16 12:00:00\n",
       "Data variables:\n",
       "    average_DT    (time) timedelta64[ns] dask.array<chunksize=(1,), meta=np.ndarray>\n",
       "    average_T1    (time) datetime64[ns] dask.array<chunksize=(1,), meta=np.ndarray>\n",
       "    average_T2    (time) datetime64[ns] dask.array<chunksize=(1,), meta=np.ndarray>\n",
       "    Coriolis      (yq, xq) float32 dask.array<chunksize=(576, 720), meta=np.ndarray>\n",
       "    areacello     (yh, xh) float32 dask.array<chunksize=(576, 720), meta=np.ndarray>\n",
       "    areacello_bu  (yq, xq) float32 dask.array<chunksize=(576, 720), meta=np.ndarray>\n",
       "    areacello_cu  (yh, xq) float32 dask.array<chunksize=(576, 720), meta=np.ndarray>\n",
       "    areacello_cv  (yq, xh) float32 dask.array<chunksize=(576, 720), meta=np.ndarray>\n",
       "    deptho        (yh, xh) float32 dask.array<chunksize=(576, 720), meta=np.ndarray>\n",
       "    dxCu          (yh, xq) float32 dask.array<chunksize=(576, 720), meta=np.ndarray>\n",
       "    dxCv          (yq, xh) float32 dask.array<chunksize=(576, 720), meta=np.ndarray>\n",
       "    dxt           (yh, xh) float32 dask.array<chunksize=(576, 720), meta=np.ndarray>\n",
       "    dyCu          (yh, xq) float32 dask.array<chunksize=(576, 720), meta=np.ndarray>\n",
       "    dyCv          (yq, xh) float32 dask.array<chunksize=(576, 720), meta=np.ndarray>\n",
       "    dyt           (yh, xh) float32 dask.array<chunksize=(576, 720), meta=np.ndarray>\n",
       "    geolat        (yh, xh) float32 dask.array<chunksize=(576, 720), meta=np.ndarray>\n",
       "    geolat_c      (yq, xq) float32 dask.array<chunksize=(576, 720), meta=np.ndarray>\n",
       "    geolat_u      (yh, xq) float32 dask.array<chunksize=(576, 720), meta=np.ndarray>\n",
       "    geolat_v      (yq, xh) float32 dask.array<chunksize=(576, 720), meta=np.ndarray>\n",
       "    geolon        (yh, xh) float32 dask.array<chunksize=(576, 720), meta=np.ndarray>\n",
       "    geolon_c      (yq, xq) float32 dask.array<chunksize=(576, 720), meta=np.ndarray>\n",
       "    geolon_u      (yh, xq) float32 dask.array<chunksize=(576, 720), meta=np.ndarray>\n",
       "    geolon_v      (yq, xh) float32 dask.array<chunksize=(576, 720), meta=np.ndarray>\n",
       "    hfgeou        (yh, xh) float32 dask.array<chunksize=(576, 720), meta=np.ndarray>\n",
       "    sftof         (yh, xh) float32 dask.array<chunksize=(576, 720), meta=np.ndarray>\n",
       "    thkcello      (z_l, yh, xh) float32 dask.array<chunksize=(1, 576, 720), meta=np.ndarray>\n",
       "    wet           (yh, xh) float32 dask.array<chunksize=(576, 720), meta=np.ndarray>\n",
       "    wet_c         (yq, xq) float32 dask.array<chunksize=(576, 720), meta=np.ndarray>\n",
       "    wet_u         (yh, xq) float32 dask.array<chunksize=(576, 720), meta=np.ndarray>\n",
       "    wet_v         (yq, xh) float32 dask.array<chunksize=(576, 720), meta=np.ndarray>\n",
       "    so            (time, z_l, yh, xh) float32 dask.array<chunksize=(1, 1, 576, 720), meta=np.ndarray>\n",
       "    time_bnds     (time, nv) timedelta64[ns] dask.array<chunksize=(1, 2), meta=np.ndarray>\n",
       "    thetao        (time, z_l, yh, xh) float32 dask.array<chunksize=(1, 1, 576, 720), meta=np.ndarray>\n",
       "    umo           (time, z_l, yh, xq) float32 dask.array<chunksize=(1, 1, 576, 720), meta=np.ndarray>\n",
       "    uo            (time, z_l, yh, xq) float32 dask.array<chunksize=(1, 1, 576, 720), meta=np.ndarray>\n",
       "    vmo           (time, z_l, yq, xh) float32 dask.array<chunksize=(1, 1, 576, 720), meta=np.ndarray>\n",
       "    vo            (time, z_l, yq, xh) float32 dask.array<chunksize=(1, 1, 576, 720), meta=np.ndarray>\n",
       "    volcello      (time, z_l, yh, xh) float32 dask.array<chunksize=(1, 1, 576, 720), meta=np.ndarray>\n",
       "    zos           (time, yh, xh) float32 dask.array<chunksize=(1, 576, 720), meta=np.ndarray>\n",
       "Attributes:\n",
       "    filename:                        ocean_monthly.200301-200712.zos.nc\n",
       "    title:                           OM4p5_IAF_BLING_CFC_abio_csf_mle200\n",
       "    associated_files:                areacello: 20030101.ocean_static.nc\n",
       "    grid_type:                       regular\n",
       "    grid_tile:                       N/A\n",
       "    external_variables:              areacello\n",
       "    DODS_EXTRA.Unlimited_Dimension:  time"
      ]
     },
     "execution_count": 5,
     "metadata": {},
     "output_type": "execute_result"
    }
   ],
   "source": [
    "ds"
   ]
  },
  {
   "cell_type": "markdown",
   "metadata": {},
   "source": [
    "## 2D horizontal averaging"
   ]
  },
  {
   "cell_type": "markdown",
   "metadata": {},
   "source": [
    "Probably one of the most used data reduction. Since the ocean grid is not uniform, we need to weight by the cell area. Special care should also be taken with land values as we're gonna see next. The horizontal averaging can then be computed  : \n",
    "\n",
    "$\\large \\overline{tracer} = \\Sigma_{i,j} (tracer ~\\times~ dx ~\\times~ dy ~\\times~ mask) ~ / ~ \\Sigma_{i,j} (dx ~\\times~ dy ~\\times~ mask)$\n",
    "\n",
    "where mask is a binary mask (0: land, 1:ocean). In MOM6 terminology, this would be written (for a tracer) as:\n",
    "\n",
    "$\\large \\overline{tracer} = \\Sigma_{i,j} (tracer ~\\times~ dxt ~\\times~ dyt ~\\times~ wet) ~ / ~ \\Sigma_{i,j} (dxt ~\\times~ dyt ~\\times~ wet)$\n",
    "\n",
    "or \n",
    "\n",
    "$\\large \\overline{tracer} = \\Sigma_{i,j} (tracer ~\\times~ areacello ~\\times~ wet) ~ / ~ \\Sigma_{i,j} (areacello ~\\times~ wet)$"
   ]
  },
  {
   "cell_type": "code",
   "execution_count": 6,
   "metadata": {},
   "outputs": [],
   "source": [
    "def horizontal_mean(da, metrics):\n",
    "    num = (da * metrics['areacello'] * metrics['wet']).sum(dim=['xh', 'yh'])\n",
    "    denom = (metrics['areacello'] * metrics['wet']).sum(dim=['xh', 'yh'])\n",
    "    return num / denom"
   ]
  },
  {
   "cell_type": "code",
   "execution_count": 7,
   "metadata": {},
   "outputs": [],
   "source": [
    "sst = ds['thetao'].isel(z_l=0)\n",
    "mean_sst = horizontal_mean(sst, ds)"
   ]
  },
  {
   "cell_type": "markdown",
   "metadata": {},
   "source": [
    "For reference, we print the first value of the obtained time-serie:"
   ]
  },
  {
   "cell_type": "code",
   "execution_count": 8,
   "metadata": {},
   "outputs": [
    {
     "data": {
      "text/plain": [
       "array(18.483639, dtype=float32)"
      ]
     },
     "execution_count": 8,
     "metadata": {},
     "output_type": "execute_result"
    }
   ],
   "source": [
    "mean_sst.isel(time=0).values"
   ]
  },
  {
   "cell_type": "markdown",
   "metadata": {},
   "source": [
    "If you don't have the \"wet\" array, you can infer the land/sea mask using:"
   ]
  },
  {
   "cell_type": "code",
   "execution_count": 9,
   "metadata": {},
   "outputs": [],
   "source": [
    "lsm = ~np.isnan(sst.isel(time=0))"
   ]
  },
  {
   "cell_type": "markdown",
   "metadata": {},
   "source": [
    "and define a new function:"
   ]
  },
  {
   "cell_type": "code",
   "execution_count": 10,
   "metadata": {},
   "outputs": [],
   "source": [
    "def horizontal_mean_no_wet(da, metrics, lsm):\n",
    "    num = (da * metrics['areacello']).sum(dim=['xh', 'yh'])\n",
    "    denom = (metrics['areacello'].where(lsm)).sum(dim=['xh', 'yh'])\n",
    "    return num / denom"
   ]
  },
  {
   "cell_type": "markdown",
   "metadata": {},
   "source": [
    "We verify that we get the same answer:"
   ]
  },
  {
   "cell_type": "code",
   "execution_count": 11,
   "metadata": {},
   "outputs": [
    {
     "data": {
      "text/plain": [
       "array(18.483639, dtype=float32)"
      ]
     },
     "execution_count": 11,
     "metadata": {},
     "output_type": "execute_result"
    }
   ],
   "source": [
    "mean_sst = horizontal_mean_no_wet(sst, ds, lsm)\n",
    "mean_sst.isel(time=0).values"
   ]
  },
  {
   "cell_type": "code",
   "execution_count": 12,
   "metadata": {},
   "outputs": [
    {
     "data": {
      "text/plain": [
       "[<matplotlib.lines.Line2D at 0x2b2b57f9e748>]"
      ]
     },
     "execution_count": 12,
     "metadata": {},
     "output_type": "execute_result"
    },
    {
     "data": {
      "image/png": "[encoded data removed]",
      "text/plain": [
       "<Figure size 432x288 with 1 Axes>"
      ]
     },
     "metadata": {
      "needs_background": "light"
     },
     "output_type": "display_data"
    }
   ],
   "source": [
    "mean_sst.plot()"
   ]
  },
  {
   "cell_type": "markdown",
   "metadata": {},
   "source": [
    "# Zonal average"
   ]
  },
  {
   "cell_type": "markdown",
   "metadata": {},
   "source": [
    "Zonal average is just a simpler case, where averaging is only done over the longitude and can be written as:\n",
    "\n",
    "$\\large \\overline{tracer} = \\Sigma_{i} (tracer ~\\times~ dxt ~\\times~ wet) ~ / ~ \\Sigma_{x} (dxt ~\\times~ wet)$\n",
    "\n",
    "and we can define the function as:"
   ]
  },
  {
   "cell_type": "code",
   "execution_count": 13,
   "metadata": {},
   "outputs": [],
   "source": [
    "def zonal_mean(da, metrics):\n",
    "    num = (da * metrics['dxt'] * metrics['wet']).sum(dim=['xh'])\n",
    "    denom = (metrics['dxt'] * metrics['wet']).sum(dim=['xh'])\n",
    "    return num/denom"
   ]
  },
  {
   "cell_type": "code",
   "execution_count": 14,
   "metadata": {},
   "outputs": [],
   "source": [
    "zonalmean_sst = zonal_mean(sst, ds)"
   ]
  },
  {
   "cell_type": "markdown",
   "metadata": {},
   "source": [
    "If we want to plot the zonal mean, we also need to have the correct latitude array and not the so-called nominal coordinate yh.\n",
    "We can calculate it with the same formula:"
   ]
  },
  {
   "cell_type": "code",
   "execution_count": 15,
   "metadata": {},
   "outputs": [],
   "source": [
    "correct_lat = zonal_mean(ds['geolat'], ds)"
   ]
  },
  {
   "cell_type": "markdown",
   "metadata": {},
   "source": [
    "Then replace the bad latitudes with the correct ones in the data array:"
   ]
  },
  {
   "cell_type": "code",
   "execution_count": 16,
   "metadata": {},
   "outputs": [],
   "source": [
    "zonalmean_sst = zonalmean_sst.rename({'yh': 'lat'})\n",
    "zonalmean_sst['lat'] = correct_lat.values"
   ]
  },
  {
   "cell_type": "code",
   "execution_count": 17,
   "metadata": {},
   "outputs": [
    {
     "data": {
      "text/plain": [
       "[<matplotlib.lines.Line2D at 0x2b2b74816588>]"
      ]
     },
     "execution_count": 17,
     "metadata": {},
     "output_type": "execute_result"
    },
    {
     "data": {
      "image/png": "[encoded data removed]",
      "text/plain": [
       "<Figure size 432x288 with 1 Axes>"
      ]
     },
     "metadata": {
      "needs_background": "light"
     },
     "output_type": "display_data"
    }
   ],
   "source": [
    "zonalmean_sst.isel(time=0).plot(y='lat')"
   ]
  },
  {
   "cell_type": "markdown",
   "metadata": {},
   "source": [
    "# 3D average"
   ]
  },
  {
   "cell_type": "markdown",
   "metadata": {},
   "source": [
    "Same method than for the 2D horizontal average, except we use volume instead of area and sum over 3 dimensions:\n",
    "\n",
    "$\\large \\overline{tracer} = \\Sigma_{i,j,k} (tracer ~\\times~ dx ~\\times~ dy ~\\times~ dz ~\\times~ mask) ~ / ~ \\Sigma_{i,j,k} (dx ~\\times~ dy ~\\times~ dz ~\\times~ mask)$\n",
    "\n",
    "or in MOM6 terminology, this would be written (for a tracer) as:\n",
    "\n",
    "$\\large \\overline{tracer} = \\Sigma_{i,j,k} (tracer ~\\times~ volcello ~\\times~ wet) ~ / ~ \\Sigma_{i,j,k} (volcello ~\\times~ wet)$\n",
    "\n",
    "the function is:"
   ]
  },
  {
   "cell_type": "code",
   "execution_count": 18,
   "metadata": {},
   "outputs": [],
   "source": [
    "def global_mean(da, metrics):\n",
    "    num = (da * metrics['volcello'] * metrics['wet']).sum(dim=['xh', 'yh', 'z_l'])\n",
    "    denom = (metrics['volcello'] * metrics['wet']).sum(dim=['xh', 'yh', 'z_l'])\n",
    "    return num / denom"
   ]
  },
  {
   "cell_type": "code",
   "execution_count": 19,
   "metadata": {},
   "outputs": [],
   "source": [
    "temp_global = global_mean(ds['thetao'], ds)"
   ]
  },
  {
   "cell_type": "markdown",
   "metadata": {},
   "source": [
    "Let's make the compute go a little faster with dask."
   ]
  },
  {
   "cell_type": "code",
   "execution_count": 20,
   "metadata": {},
   "outputs": [
    {
     "data": {
      "text/html": [
       "<table style=\"border: 2px solid white;\">\n",
       "<tr>\n",
       "<td style=\"vertical-align: top; border: 0px solid white\">\n",
       "<h3 style=\"text-align: left;\">Client</h3>\n",
       "<ul style=\"text-align: left; list-style: none; margin: 0; padding: 0;\">\n",
       "  <li><b>Scheduler: </b>tcp://127.0.0.1:37457</li>\n",
       "  <li><b>Dashboard: </b><a href='http://127.0.0.1:42311/status' target='_blank'>http://127.0.0.1:42311/status</a>\n",
       "</ul>\n",
       "</td>\n",
       "<td style=\"vertical-align: top; border: 0px solid white\">\n",
       "<h3 style=\"text-align: left;\">Cluster</h3>\n",
       "<ul style=\"text-align: left; list-style:none; margin: 0; padding: 0;\">\n",
       "  <li><b>Workers: </b>4</li>\n",
       "  <li><b>Cores: </b>8</li>\n",
       "  <li><b>Memory: </b>33.22 GB</li>\n",
       "</ul>\n",
       "</td>\n",
       "</tr>\n",
       "</table>"
      ],
      "text/plain": [
       "<Client: 'tcp://127.0.0.1:37457' processes=4 threads=8, memory=33.22 GB>"
      ]
     },
     "execution_count": 20,
     "metadata": {},
     "output_type": "execute_result"
    }
   ],
   "source": [
    "from dask.distributed import Client\n",
    "from dask.distributed import LocalCluster\n",
    "cluster = LocalCluster()\n",
    "client = Client(cluster)\n",
    "client"
   ]
  },
  {
   "cell_type": "code",
   "execution_count": 21,
   "metadata": {},
   "outputs": [
    {
     "name": "stderr",
     "output_type": "stream",
     "text": [
      "distributed.comm.tcp - WARNING - Closing dangling stream in <TCP  local=tcp://127.0.0.1:40564 remote=tcp://127.0.0.1:37457>\n",
      "distributed.comm.tcp - WARNING - Closing dangling stream in <TCP  local=tcp://127.0.0.1:40566 remote=tcp://127.0.0.1:37457>\n",
      "distributed.comm.tcp - WARNING - Closing dangling stream in <TCP  local=tcp://127.0.0.1:40568 remote=tcp://127.0.0.1:37457>\n",
      "distributed.comm.tcp - WARNING - Closing dangling stream in <TCP  local=tcp://127.0.0.1:40570 remote=tcp://127.0.0.1:37457>\n",
      "distributed.comm.tcp - WARNING - Closing dangling stream in <TCP  local=tcp://127.0.0.1:40572 remote=tcp://127.0.0.1:37457>\n"
     ]
    },
    {
     "data": {
      "text/plain": [
       "[<matplotlib.lines.Line2D at 0x2b2b8fdc7f60>]"
      ]
     },
     "execution_count": 21,
     "metadata": {},
     "output_type": "execute_result"
    },
    {
     "data": {
      "image/png": "[encoded data removed]",
      "text/plain": [
       "<Figure size 432x288 with 1 Axes>"
      ]
     },
     "metadata": {
      "needs_background": "light"
     },
     "output_type": "display_data"
    }
   ],
   "source": [
    "temp_global.plot()"
   ]
  },
  {
   "cell_type": "code",
   "execution_count": null,
   "metadata": {},
   "outputs": [],
   "source": []
  }
 ],
 "metadata": {
  "kernelspec": {
   "display_name": "Py3 analysis_ws",
   "language": "python",
   "name": "analysis"
  },
  "language_info": {
   "codemirror_mode": {
    "name": "ipython",
    "version": 3
   },
   "file_extension": ".py",
   "mimetype": "text/x-python",
   "name": "python",
   "nbconvert_exporter": "python",
   "pygments_lexer": "ipython3",
   "version": "3.6.7"
  }
 },
 "nbformat": 4,
 "nbformat_minor": 4
}
