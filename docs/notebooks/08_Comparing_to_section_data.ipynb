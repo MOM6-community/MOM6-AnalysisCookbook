{
 "cells": [
  {
   "cell_type": "markdown",
   "metadata": {},
   "source": [
    "# Comparing MOM6 data to hydrographic section"
   ]
  },
  {
   "cell_type": "markdown",
   "metadata": {},
   "source": [
    "In this notebook, we show how to compare model's results with observations using xESMF."
   ]
  },
  {
   "cell_type": "code",
   "execution_count": 1,
   "metadata": {},
   "outputs": [],
   "source": [
    "import xarray as xr\n",
    "import xesmf\n",
    "import zipfile\n",
    "import pandas"
   ]
  },
  {
   "cell_type": "code",
   "execution_count": 2,
   "metadata": {},
   "outputs": [],
   "source": [
    "import warnings\n",
    "warnings.filterwarnings(\"ignore\")"
   ]
  },
  {
   "cell_type": "code",
   "execution_count": 3,
   "metadata": {},
   "outputs": [],
   "source": [
    "%matplotlib inline"
   ]
  },
  {
   "cell_type": "markdown",
   "metadata": {},
   "source": [
    "First we load the sample model data:"
   ]
  },
  {
   "cell_type": "code",
   "execution_count": 4,
   "metadata": {},
   "outputs": [],
   "source": [
    "dataurl = 'http://35.188.34.63:8080/thredds/dodsC/OM4p5/'\n",
    "\n",
    "ds = xr.open_dataset(f'{dataurl}/ocean_monthly_z.200301-200712.nc4',\n",
    "                     chunks={'time':1, 'z_l': 1}, engine='pydap')"
   ]
  },
  {
   "cell_type": "markdown",
   "metadata": {},
   "source": [
    "Then we download data from Calcofi:"
   ]
  },
  {
   "cell_type": "code",
   "execution_count": 5,
   "metadata": {},
   "outputs": [
    {
     "name": "stdout",
     "output_type": "stream",
     "text": [
      "  % Total    % Received % Xferd  Average Speed   Time    Time     Time  Current\n",
      "                                 Dload  Upload   Total   Spent    Left  Speed\n",
      "100 36.9M  100 36.9M    0     0  3933k      0  0:00:09  0:00:09 --:--:-- 5815k  0:00:03  0:00:19 1672k07  0:00:05 4261k\n"
     ]
    }
   ],
   "source": [
    "!curl -O https://cappuccino.ucsd.edu/downloads/2012/20-1202NH_CTDFinalQC.zip"
   ]
  },
  {
   "cell_type": "markdown",
   "metadata": {},
   "source": [
    "We need to play a bit with the zip file to read the data into a pandas dataframe:"
   ]
  },
  {
   "cell_type": "code",
   "execution_count": 6,
   "metadata": {},
   "outputs": [],
   "source": [
    "with zipfile.ZipFile('20-1202NH_CTDFinalQC.zip', 'r') as archive:\n",
    "    data = archive.extract('db_csvs/20-1202NH_CTDBTL_001-075D.csv')\n",
    "    df = pandas.read_csv('db_csvs/20-1202NH_CTDBTL_001-075D.csv')"
   ]
  },
  {
   "cell_type": "code",
   "execution_count": 7,
   "metadata": {},
   "outputs": [
    {
     "data": {
      "text/html": [
       "<div>\n",
       "<style scoped>\n",
       "    .dataframe tbody tr th:only-of-type {\n",
       "        vertical-align: middle;\n",
       "    }\n",
       "\n",
       "    .dataframe tbody tr th {\n",
       "        vertical-align: top;\n",
       "    }\n",
       "\n",
       "    .dataframe thead th {\n",
       "        text-align: right;\n",
       "    }\n",
       "</style>\n",
       "<table border=\"1\" class=\"dataframe\">\n",
       "  <thead>\n",
       "    <tr style=\"text-align: right;\">\n",
       "      <th></th>\n",
       "      <th>Project</th>\n",
       "      <th>Study</th>\n",
       "      <th>Ord_Occ</th>\n",
       "      <th>Event_Num</th>\n",
       "      <th>Cast_ID</th>\n",
       "      <th>Date_Time_UTC</th>\n",
       "      <th>Date_Time_PST</th>\n",
       "      <th>Lat_Dec</th>\n",
       "      <th>Lon_Dec</th>\n",
       "      <th>Sta_ID</th>\n",
       "      <th>...</th>\n",
       "      <th>SaltB</th>\n",
       "      <th>OxB</th>\n",
       "      <th>OxBuM</th>\n",
       "      <th>Chl-a</th>\n",
       "      <th>Phaeo</th>\n",
       "      <th>NO3</th>\n",
       "      <th>NO2</th>\n",
       "      <th>NH4</th>\n",
       "      <th>PO4</th>\n",
       "      <th>SIL</th>\n",
       "    </tr>\n",
       "  </thead>\n",
       "  <tbody>\n",
       "    <tr>\n",
       "      <th>0</th>\n",
       "      <td>CalCOFI</td>\n",
       "      <td>1202NH</td>\n",
       "      <td>1</td>\n",
       "      <td>7.0</td>\n",
       "      <td>1202_001d</td>\n",
       "      <td>27-Jan-2012 23:57:08</td>\n",
       "      <td>27-Jan-2012 15:57:08</td>\n",
       "      <td>32.95690</td>\n",
       "      <td>-117.30751</td>\n",
       "      <td>093.3 026.7</td>\n",
       "      <td>...</td>\n",
       "      <td>33.3669</td>\n",
       "      <td>6.546</td>\n",
       "      <td>285.89</td>\n",
       "      <td>1.826</td>\n",
       "      <td>0.239</td>\n",
       "      <td>0.0</td>\n",
       "      <td>0.00</td>\n",
       "      <td>0.00</td>\n",
       "      <td>0.24</td>\n",
       "      <td>0.5</td>\n",
       "    </tr>\n",
       "    <tr>\n",
       "      <th>1</th>\n",
       "      <td>CalCOFI</td>\n",
       "      <td>1202NH</td>\n",
       "      <td>1</td>\n",
       "      <td>7.0</td>\n",
       "      <td>1202_001d</td>\n",
       "      <td>27-Jan-2012 23:57:43</td>\n",
       "      <td>27-Jan-2012 15:57:43</td>\n",
       "      <td>32.95685</td>\n",
       "      <td>-117.30740</td>\n",
       "      <td>093.3 026.7</td>\n",
       "      <td>...</td>\n",
       "      <td>NaN</td>\n",
       "      <td>NaN</td>\n",
       "      <td>NaN</td>\n",
       "      <td>NaN</td>\n",
       "      <td>NaN</td>\n",
       "      <td>NaN</td>\n",
       "      <td>NaN</td>\n",
       "      <td>NaN</td>\n",
       "      <td>NaN</td>\n",
       "      <td>NaN</td>\n",
       "    </tr>\n",
       "    <tr>\n",
       "      <th>2</th>\n",
       "      <td>CalCOFI</td>\n",
       "      <td>1202NH</td>\n",
       "      <td>1</td>\n",
       "      <td>7.0</td>\n",
       "      <td>1202_001d</td>\n",
       "      <td>27-Jan-2012 23:57:44</td>\n",
       "      <td>27-Jan-2012 15:57:44</td>\n",
       "      <td>32.95684</td>\n",
       "      <td>-117.30740</td>\n",
       "      <td>093.3 026.7</td>\n",
       "      <td>...</td>\n",
       "      <td>NaN</td>\n",
       "      <td>NaN</td>\n",
       "      <td>NaN</td>\n",
       "      <td>NaN</td>\n",
       "      <td>NaN</td>\n",
       "      <td>NaN</td>\n",
       "      <td>NaN</td>\n",
       "      <td>NaN</td>\n",
       "      <td>NaN</td>\n",
       "      <td>NaN</td>\n",
       "    </tr>\n",
       "    <tr>\n",
       "      <th>3</th>\n",
       "      <td>CalCOFI</td>\n",
       "      <td>1202NH</td>\n",
       "      <td>1</td>\n",
       "      <td>7.0</td>\n",
       "      <td>1202_001d</td>\n",
       "      <td>27-Jan-2012 23:57:45</td>\n",
       "      <td>27-Jan-2012 15:57:45</td>\n",
       "      <td>32.95684</td>\n",
       "      <td>-117.30740</td>\n",
       "      <td>093.3 026.7</td>\n",
       "      <td>...</td>\n",
       "      <td>33.3678</td>\n",
       "      <td>6.589</td>\n",
       "      <td>287.79</td>\n",
       "      <td>1.581</td>\n",
       "      <td>0.300</td>\n",
       "      <td>0.0</td>\n",
       "      <td>0.00</td>\n",
       "      <td>0.00</td>\n",
       "      <td>0.24</td>\n",
       "      <td>0.5</td>\n",
       "    </tr>\n",
       "    <tr>\n",
       "      <th>4</th>\n",
       "      <td>CalCOFI</td>\n",
       "      <td>1202NH</td>\n",
       "      <td>1</td>\n",
       "      <td>7.0</td>\n",
       "      <td>1202_001d</td>\n",
       "      <td>27-Jan-2012 23:57:46</td>\n",
       "      <td>27-Jan-2012 15:57:46</td>\n",
       "      <td>32.95684</td>\n",
       "      <td>-117.30738</td>\n",
       "      <td>093.3 026.7</td>\n",
       "      <td>...</td>\n",
       "      <td>NaN</td>\n",
       "      <td>NaN</td>\n",
       "      <td>NaN</td>\n",
       "      <td>NaN</td>\n",
       "      <td>NaN</td>\n",
       "      <td>NaN</td>\n",
       "      <td>NaN</td>\n",
       "      <td>NaN</td>\n",
       "      <td>NaN</td>\n",
       "      <td>NaN</td>\n",
       "    </tr>\n",
       "    <tr>\n",
       "      <th>...</th>\n",
       "      <td>...</td>\n",
       "      <td>...</td>\n",
       "      <td>...</td>\n",
       "      <td>...</td>\n",
       "      <td>...</td>\n",
       "      <td>...</td>\n",
       "      <td>...</td>\n",
       "      <td>...</td>\n",
       "      <td>...</td>\n",
       "      <td>...</td>\n",
       "      <td>...</td>\n",
       "      <td>...</td>\n",
       "      <td>...</td>\n",
       "      <td>...</td>\n",
       "      <td>...</td>\n",
       "      <td>...</td>\n",
       "      <td>...</td>\n",
       "      <td>...</td>\n",
       "      <td>...</td>\n",
       "      <td>...</td>\n",
       "      <td>...</td>\n",
       "    </tr>\n",
       "    <tr>\n",
       "      <th>33408</th>\n",
       "      <td>CalCOFI</td>\n",
       "      <td>1202NH</td>\n",
       "      <td>75</td>\n",
       "      <td>882.0</td>\n",
       "      <td>1202_075d</td>\n",
       "      <td>12-Feb-2012 03:57:53</td>\n",
       "      <td>11-Feb-2012 19:57:53</td>\n",
       "      <td>35.08678</td>\n",
       "      <td>-120.77914</td>\n",
       "      <td>076.7 049.0</td>\n",
       "      <td>...</td>\n",
       "      <td>NaN</td>\n",
       "      <td>NaN</td>\n",
       "      <td>NaN</td>\n",
       "      <td>NaN</td>\n",
       "      <td>NaN</td>\n",
       "      <td>NaN</td>\n",
       "      <td>NaN</td>\n",
       "      <td>NaN</td>\n",
       "      <td>NaN</td>\n",
       "      <td>NaN</td>\n",
       "    </tr>\n",
       "    <tr>\n",
       "      <th>33409</th>\n",
       "      <td>CalCOFI</td>\n",
       "      <td>1202NH</td>\n",
       "      <td>75</td>\n",
       "      <td>882.0</td>\n",
       "      <td>1202_075d</td>\n",
       "      <td>12-Feb-2012 03:58:00</td>\n",
       "      <td>11-Feb-2012 19:58:00</td>\n",
       "      <td>35.08677</td>\n",
       "      <td>-120.77916</td>\n",
       "      <td>076.7 049.0</td>\n",
       "      <td>...</td>\n",
       "      <td>NaN</td>\n",
       "      <td>NaN</td>\n",
       "      <td>NaN</td>\n",
       "      <td>NaN</td>\n",
       "      <td>NaN</td>\n",
       "      <td>NaN</td>\n",
       "      <td>NaN</td>\n",
       "      <td>NaN</td>\n",
       "      <td>NaN</td>\n",
       "      <td>NaN</td>\n",
       "    </tr>\n",
       "    <tr>\n",
       "      <th>33410</th>\n",
       "      <td>CalCOFI</td>\n",
       "      <td>1202NH</td>\n",
       "      <td>75</td>\n",
       "      <td>882.0</td>\n",
       "      <td>1202_075d</td>\n",
       "      <td>12-Feb-2012 03:58:07</td>\n",
       "      <td>11-Feb-2012 19:58:07</td>\n",
       "      <td>35.08676</td>\n",
       "      <td>-120.77920</td>\n",
       "      <td>076.7 049.0</td>\n",
       "      <td>...</td>\n",
       "      <td>NaN</td>\n",
       "      <td>NaN</td>\n",
       "      <td>NaN</td>\n",
       "      <td>NaN</td>\n",
       "      <td>NaN</td>\n",
       "      <td>NaN</td>\n",
       "      <td>NaN</td>\n",
       "      <td>NaN</td>\n",
       "      <td>NaN</td>\n",
       "      <td>NaN</td>\n",
       "    </tr>\n",
       "    <tr>\n",
       "      <th>33411</th>\n",
       "      <td>CalCOFI</td>\n",
       "      <td>1202NH</td>\n",
       "      <td>75</td>\n",
       "      <td>882.0</td>\n",
       "      <td>1202_075d</td>\n",
       "      <td>12-Feb-2012 03:58:23</td>\n",
       "      <td>11-Feb-2012 19:58:23</td>\n",
       "      <td>35.08674</td>\n",
       "      <td>-120.77926</td>\n",
       "      <td>076.7 049.0</td>\n",
       "      <td>...</td>\n",
       "      <td>33.6131</td>\n",
       "      <td>3.468</td>\n",
       "      <td>151.27</td>\n",
       "      <td>0.405</td>\n",
       "      <td>1.092</td>\n",
       "      <td>18.2</td>\n",
       "      <td>0.28</td>\n",
       "      <td>0.52</td>\n",
       "      <td>1.64</td>\n",
       "      <td>21.7</td>\n",
       "    </tr>\n",
       "    <tr>\n",
       "      <th>33412</th>\n",
       "      <td>CalCOFI</td>\n",
       "      <td>1202NH</td>\n",
       "      <td>75</td>\n",
       "      <td>882.0</td>\n",
       "      <td>1202_075d</td>\n",
       "      <td>12-Feb-2012 03:58:28</td>\n",
       "      <td>11-Feb-2012 19:58:28</td>\n",
       "      <td>35.08675</td>\n",
       "      <td>-120.77926</td>\n",
       "      <td>076.7 049.0</td>\n",
       "      <td>...</td>\n",
       "      <td>NaN</td>\n",
       "      <td>NaN</td>\n",
       "      <td>NaN</td>\n",
       "      <td>NaN</td>\n",
       "      <td>NaN</td>\n",
       "      <td>NaN</td>\n",
       "      <td>NaN</td>\n",
       "      <td>NaN</td>\n",
       "      <td>NaN</td>\n",
       "      <td>NaN</td>\n",
       "    </tr>\n",
       "  </tbody>\n",
       "</table>\n",
       "<p>33413 rows × 82 columns</p>\n",
       "</div>"
      ],
      "text/plain": [
       "       Project   Study  Ord_Occ  Event_Num    Cast_ID         Date_Time_UTC  \\\n",
       "0      CalCOFI  1202NH        1        7.0  1202_001d  27-Jan-2012 23:57:08   \n",
       "1      CalCOFI  1202NH        1        7.0  1202_001d  27-Jan-2012 23:57:43   \n",
       "2      CalCOFI  1202NH        1        7.0  1202_001d  27-Jan-2012 23:57:44   \n",
       "3      CalCOFI  1202NH        1        7.0  1202_001d  27-Jan-2012 23:57:45   \n",
       "4      CalCOFI  1202NH        1        7.0  1202_001d  27-Jan-2012 23:57:46   \n",
       "...        ...     ...      ...        ...        ...                   ...   \n",
       "33408  CalCOFI  1202NH       75      882.0  1202_075d  12-Feb-2012 03:57:53   \n",
       "33409  CalCOFI  1202NH       75      882.0  1202_075d  12-Feb-2012 03:58:00   \n",
       "33410  CalCOFI  1202NH       75      882.0  1202_075d  12-Feb-2012 03:58:07   \n",
       "33411  CalCOFI  1202NH       75      882.0  1202_075d  12-Feb-2012 03:58:23   \n",
       "33412  CalCOFI  1202NH       75      882.0  1202_075d  12-Feb-2012 03:58:28   \n",
       "\n",
       "              Date_Time_PST   Lat_Dec    Lon_Dec       Sta_ID  ...    SaltB  \\\n",
       "0      27-Jan-2012 15:57:08  32.95690 -117.30751  093.3 026.7  ...  33.3669   \n",
       "1      27-Jan-2012 15:57:43  32.95685 -117.30740  093.3 026.7  ...      NaN   \n",
       "2      27-Jan-2012 15:57:44  32.95684 -117.30740  093.3 026.7  ...      NaN   \n",
       "3      27-Jan-2012 15:57:45  32.95684 -117.30740  093.3 026.7  ...  33.3678   \n",
       "4      27-Jan-2012 15:57:46  32.95684 -117.30738  093.3 026.7  ...      NaN   \n",
       "...                     ...       ...        ...          ...  ...      ...   \n",
       "33408  11-Feb-2012 19:57:53  35.08678 -120.77914  076.7 049.0  ...      NaN   \n",
       "33409  11-Feb-2012 19:58:00  35.08677 -120.77916  076.7 049.0  ...      NaN   \n",
       "33410  11-Feb-2012 19:58:07  35.08676 -120.77920  076.7 049.0  ...      NaN   \n",
       "33411  11-Feb-2012 19:58:23  35.08674 -120.77926  076.7 049.0  ...  33.6131   \n",
       "33412  11-Feb-2012 19:58:28  35.08675 -120.77926  076.7 049.0  ...      NaN   \n",
       "\n",
       "         OxB   OxBuM  Chl-a  Phaeo   NO3   NO2   NH4   PO4   SIL  \n",
       "0      6.546  285.89  1.826  0.239   0.0  0.00  0.00  0.24   0.5  \n",
       "1        NaN     NaN    NaN    NaN   NaN   NaN   NaN   NaN   NaN  \n",
       "2        NaN     NaN    NaN    NaN   NaN   NaN   NaN   NaN   NaN  \n",
       "3      6.589  287.79  1.581  0.300   0.0  0.00  0.00  0.24   0.5  \n",
       "4        NaN     NaN    NaN    NaN   NaN   NaN   NaN   NaN   NaN  \n",
       "...      ...     ...    ...    ...   ...   ...   ...   ...   ...  \n",
       "33408    NaN     NaN    NaN    NaN   NaN   NaN   NaN   NaN   NaN  \n",
       "33409    NaN     NaN    NaN    NaN   NaN   NaN   NaN   NaN   NaN  \n",
       "33410    NaN     NaN    NaN    NaN   NaN   NaN   NaN   NaN   NaN  \n",
       "33411  3.468  151.27  0.405  1.092  18.2  0.28  0.52  1.64  21.7  \n",
       "33412    NaN     NaN    NaN    NaN   NaN   NaN   NaN   NaN   NaN  \n",
       "\n",
       "[33413 rows x 82 columns]"
      ]
     },
     "execution_count": 7,
     "metadata": {},
     "output_type": "execute_result"
    }
   ],
   "source": [
    "df"
   ]
  },
  {
   "cell_type": "markdown",
   "metadata": {},
   "source": [
    "Let's define a function to plot the longitude/latitude of the stations:"
   ]
  },
  {
   "cell_type": "code",
   "execution_count": 8,
   "metadata": {},
   "outputs": [],
   "source": [
    "import matplotlib.pyplot as plt\n",
    "import matplotlib.ticker as mticker\n",
    "from cartopy.mpl.gridliner import LONGITUDE_FORMATTER, LATITUDE_FORMATTER\n",
    "import cartopy.feature as cfeature\n",
    "import cartopy.crs as ccrs\n",
    "\n",
    "def plot_stations(lon, lat):\n",
    "    fig = plt.figure(figsize=[16,10])\n",
    "    ax = plt.axes(projection=ccrs.PlateCarree())\n",
    "    ax.add_feature(cfeature.COASTLINE)\n",
    "    ax.add_feature(cfeature.LAND)\n",
    "    ax.set_extent([-126, -115, 29, 36])\n",
    "\n",
    "    # parallels/meridiens\n",
    "    gl = ax.gridlines(crs=ccrs.PlateCarree(), draw_labels=True,\n",
    "                      linewidth=2, color='gray', alpha=0.5, linestyle='--')\n",
    "    gl.xlabels_top = False\n",
    "    gl.ylabels_right = False\n",
    "    gl.xlabel_style = {'size': 18, 'color': 'black'}\n",
    "    gl.ylabel_style = {'size': 18, 'color': 'black'}\n",
    "\n",
    "    plt.plot(lon, lat, 'ko')\n",
    "    return fig"
   ]
  },
  {
   "cell_type": "code",
   "execution_count": 9,
   "metadata": {},
   "outputs": [
    {
     "data": {
      "image/png": "[encoded data removed]",
      "text/plain": [
       "<Figure size 1152x720 with 1 Axes>"
      ]
     },
     "metadata": {
      "needs_background": "light"
     },
     "output_type": "display_data"
    }
   ],
   "source": [
    "fig = plot_stations(df['Lon_Dec'], df['Lat_Dec'])"
   ]
  },
  {
   "cell_type": "markdown",
   "metadata": {},
   "source": [
    "Calcofi is an array with multiple Lines, we can extract lon/lat on a single line using the surface values:"
   ]
  },
  {
   "cell_type": "code",
   "execution_count": 10,
   "metadata": {},
   "outputs": [],
   "source": [
    "df_linesurf = df[['Lon_Dec', 'Lat_Dec']].where(df['Line'] == 93.3).where(df['Depth'] <= 2.0).drop_duplicates().dropna()"
   ]
  },
  {
   "cell_type": "code",
   "execution_count": 11,
   "metadata": {},
   "outputs": [
    {
     "data": {
      "text/html": [
       "<div>\n",
       "<style scoped>\n",
       "    .dataframe tbody tr th:only-of-type {\n",
       "        vertical-align: middle;\n",
       "    }\n",
       "\n",
       "    .dataframe tbody tr th {\n",
       "        vertical-align: top;\n",
       "    }\n",
       "\n",
       "    .dataframe thead th {\n",
       "        text-align: right;\n",
       "    }\n",
       "</style>\n",
       "<table border=\"1\" class=\"dataframe\">\n",
       "  <thead>\n",
       "    <tr style=\"text-align: right;\">\n",
       "      <th></th>\n",
       "      <th>Lon_Dec</th>\n",
       "      <th>Lat_Dec</th>\n",
       "    </tr>\n",
       "  </thead>\n",
       "  <tbody>\n",
       "    <tr>\n",
       "      <th>0</th>\n",
       "      <td>-117.30751</td>\n",
       "      <td>32.95690</td>\n",
       "    </tr>\n",
       "    <tr>\n",
       "      <th>59</th>\n",
       "      <td>-117.28240</td>\n",
       "      <td>32.95315</td>\n",
       "    </tr>\n",
       "    <tr>\n",
       "      <th>60</th>\n",
       "      <td>-117.28262</td>\n",
       "      <td>32.95292</td>\n",
       "    </tr>\n",
       "    <tr>\n",
       "      <th>89</th>\n",
       "      <td>-117.39411</td>\n",
       "      <td>32.91489</td>\n",
       "    </tr>\n",
       "    <tr>\n",
       "      <th>608</th>\n",
       "      <td>-117.53097</td>\n",
       "      <td>32.84862</td>\n",
       "    </tr>\n",
       "    <tr>\n",
       "      <th>1123</th>\n",
       "      <td>-117.86989</td>\n",
       "      <td>32.68423</td>\n",
       "    </tr>\n",
       "    <tr>\n",
       "      <th>1639</th>\n",
       "      <td>-118.21614</td>\n",
       "      <td>32.51461</td>\n",
       "    </tr>\n",
       "    <tr>\n",
       "      <th>2156</th>\n",
       "      <td>-118.55562</td>\n",
       "      <td>32.34692</td>\n",
       "    </tr>\n",
       "    <tr>\n",
       "      <th>2672</th>\n",
       "      <td>-118.89647</td>\n",
       "      <td>32.18020</td>\n",
       "    </tr>\n",
       "    <tr>\n",
       "      <th>3190</th>\n",
       "      <td>-119.23289</td>\n",
       "      <td>32.01236</td>\n",
       "    </tr>\n",
       "    <tr>\n",
       "      <th>3705</th>\n",
       "      <td>-119.57253</td>\n",
       "      <td>31.84655</td>\n",
       "    </tr>\n",
       "    <tr>\n",
       "      <th>4221</th>\n",
       "      <td>-120.24702</td>\n",
       "      <td>31.51537</td>\n",
       "    </tr>\n",
       "    <tr>\n",
       "      <th>4736</th>\n",
       "      <td>-120.91814</td>\n",
       "      <td>31.17939</td>\n",
       "    </tr>\n",
       "    <tr>\n",
       "      <th>4737</th>\n",
       "      <td>-120.91836</td>\n",
       "      <td>31.17935</td>\n",
       "    </tr>\n",
       "    <tr>\n",
       "      <th>5253</th>\n",
       "      <td>-121.58557</td>\n",
       "      <td>30.84750</td>\n",
       "    </tr>\n",
       "    <tr>\n",
       "      <th>5770</th>\n",
       "      <td>-122.25949</td>\n",
       "      <td>30.51269</td>\n",
       "    </tr>\n",
       "    <tr>\n",
       "      <th>5771</th>\n",
       "      <td>-122.25971</td>\n",
       "      <td>30.51267</td>\n",
       "    </tr>\n",
       "    <tr>\n",
       "      <th>6286</th>\n",
       "      <td>-122.91835</td>\n",
       "      <td>30.18028</td>\n",
       "    </tr>\n",
       "    <tr>\n",
       "      <th>6801</th>\n",
       "      <td>-123.58863</td>\n",
       "      <td>29.84797</td>\n",
       "    </tr>\n",
       "  </tbody>\n",
       "</table>\n",
       "</div>"
      ],
      "text/plain": [
       "        Lon_Dec   Lat_Dec\n",
       "0    -117.30751  32.95690\n",
       "59   -117.28240  32.95315\n",
       "60   -117.28262  32.95292\n",
       "89   -117.39411  32.91489\n",
       "608  -117.53097  32.84862\n",
       "1123 -117.86989  32.68423\n",
       "1639 -118.21614  32.51461\n",
       "2156 -118.55562  32.34692\n",
       "2672 -118.89647  32.18020\n",
       "3190 -119.23289  32.01236\n",
       "3705 -119.57253  31.84655\n",
       "4221 -120.24702  31.51537\n",
       "4736 -120.91814  31.17939\n",
       "4737 -120.91836  31.17935\n",
       "5253 -121.58557  30.84750\n",
       "5770 -122.25949  30.51269\n",
       "5771 -122.25971  30.51267\n",
       "6286 -122.91835  30.18028\n",
       "6801 -123.58863  29.84797"
      ]
     },
     "execution_count": 11,
     "metadata": {},
     "output_type": "execute_result"
    }
   ],
   "source": [
    "df_linesurf"
   ]
  },
  {
   "cell_type": "code",
   "execution_count": 12,
   "metadata": {},
   "outputs": [
    {
     "data": {
      "image/png": "[encoded data removed]",
      "text/plain": [
       "<Figure size 1152x720 with 1 Axes>"
      ]
     },
     "metadata": {
      "needs_background": "light"
     },
     "output_type": "display_data"
    }
   ],
   "source": [
    "fig = plot_stations(df_linesurf['Lon_Dec'], df_linesurf['Lat_Dec'])"
   ]
  },
  {
   "cell_type": "markdown",
   "metadata": {},
   "source": [
    "We can now use these locations to create a xesmf Regrid object and interpolate the model's data onto these stations. This uses the LocStream capabilities of ESMF. More details can be found in the [xESMF documentation on LocStream](https://xesmf.readthedocs.io/en/latest/notebooks/Using_LocStream.html). The first part is to create a xarray dataset with the stations:"
   ]
  },
  {
   "cell_type": "code",
   "execution_count": 13,
   "metadata": {},
   "outputs": [],
   "source": [
    "ds_locs = xr.Dataset()\n",
    "ds_locs['lon'] = xr.DataArray(data=df_linesurf['Lon_Dec'], dims=('stations'))\n",
    "ds_locs['lat'] = xr.DataArray(data=df_linesurf['Lat_Dec'], dims=('stations'))"
   ]
  },
  {
   "cell_type": "code",
   "execution_count": 14,
   "metadata": {},
   "outputs": [
    {
     "data": {
      "text/html": [
       "<pre>&lt;xarray.Dataset&gt;\n",
       "Dimensions:   (stations: 19)\n",
       "Coordinates:\n",
       "  * stations  (stations) int64 0 59 60 89 608 1123 ... 5253 5770 5771 6286 6801\n",
       "Data variables:\n",
       "    lon       (stations) float64 -117.3 -117.3 -117.3 ... -122.3 -122.9 -123.6\n",
       "    lat       (stations) float64 32.96 32.95 32.95 32.91 ... 30.51 30.18 29.85</pre>"
      ],
      "text/plain": [
       "<xarray.Dataset>\n",
       "Dimensions:   (stations: 19)\n",
       "Coordinates:\n",
       "  * stations  (stations) int64 0 59 60 89 608 1123 ... 5253 5770 5771 6286 6801\n",
       "Data variables:\n",
       "    lon       (stations) float64 -117.3 -117.3 -117.3 ... -122.3 -122.9 -123.6\n",
       "    lat       (stations) float64 32.96 32.95 32.95 32.91 ... 30.51 30.18 29.85"
      ]
     },
     "execution_count": 14,
     "metadata": {},
     "output_type": "execute_result"
    }
   ],
   "source": [
    "ds_locs"
   ]
  },
  {
   "cell_type": "markdown",
   "metadata": {},
   "source": [
    "We can now create the regridding weights and apply to a variable (for example salinity):"
   ]
  },
  {
   "cell_type": "code",
   "execution_count": 15,
   "metadata": {},
   "outputs": [
    {
     "name": "stdout",
     "output_type": "stream",
     "text": [
      "Create weight file: bilinear_576x720_1x19.nc\n"
     ]
    }
   ],
   "source": [
    "regridder = xesmf.Regridder(ds.rename({'geolon': 'lon', 'geolat': 'lat'}), ds_locs, 'bilinear', locstream_out=True)"
   ]
  },
  {
   "cell_type": "code",
   "execution_count": 16,
   "metadata": {},
   "outputs": [],
   "source": [
    "salt_calcofi_line = regridder(ds['so'])"
   ]
  },
  {
   "cell_type": "markdown",
   "metadata": {},
   "source": [
    "Let's use the first time record to make a test plot and compare to observations:"
   ]
  },
  {
   "cell_type": "code",
   "execution_count": 17,
   "metadata": {},
   "outputs": [],
   "source": [
    "salt_0 = salt_calcofi_line.sel(time='2003-01-16')\n",
    "_ = salt_0.load()"
   ]
  },
  {
   "cell_type": "markdown",
   "metadata": {},
   "source": [
    "We extract and plot the data on the Calcofi Line:"
   ]
  },
  {
   "cell_type": "code",
   "execution_count": 18,
   "metadata": {},
   "outputs": [
    {
     "data": {
      "image/png": "[encoded data removed]",
      "text/plain": [
       "<Figure size 648x432 with 2 Axes>"
      ]
     },
     "metadata": {
      "needs_background": "light"
     },
     "output_type": "display_data"
    }
   ],
   "source": [
    "df_line = df.where(df['Line'] == 93.3)\n",
    "\n",
    "plt.figure(figsize=[9, 6])\n",
    "plt.scatter(df_line['Lon_Dec'], - df_line['Depth'], c=df_line['Salt1'],\n",
    "            vmin=33, vmax=34.2, cmap='nipy_spectral')\n",
    "plt.colorbar()\n",
    "_ = plt.axis([-125, -117, -600, 0])\n",
    "_ = plt.title('Observations')"
   ]
  },
  {
   "cell_type": "markdown",
   "metadata": {},
   "source": [
    "And now the data interpolated from the model:"
   ]
  },
  {
   "cell_type": "code",
   "execution_count": 19,
   "metadata": {},
   "outputs": [
    {
     "data": {
      "image/png": "[encoded data removed]",
      "text/plain": [
       "<Figure size 648x432 with 2 Axes>"
      ]
     },
     "metadata": {
      "needs_background": "light"
     },
     "output_type": "display_data"
    }
   ],
   "source": [
    "plt.figure(figsize=[9, 6])\n",
    "plt.contourf(salt_0['lon'], - salt_0['z_l'], salt_0.values.squeeze(), 30,\n",
    "            vmin=33, vmax=34.2, cmap='nipy_spectral')\n",
    "plt.colorbar()\n",
    "_ = plt.axis([-125, -117, -600, 0])\n",
    "_ = plt.title('Model')"
   ]
  },
  {
   "cell_type": "markdown",
   "metadata": {},
   "source": [
    "and that's it!"
   ]
  }
 ],
 "metadata": {
  "kernelspec": {
   "display_name": "Analysis",
   "language": "python",
   "name": "analysis"
  },
  "language_info": {
   "codemirror_mode": {
    "name": "ipython",
    "version": 3
   },
   "file_extension": ".py",
   "mimetype": "text/x-python",
   "name": "python",
   "nbconvert_exporter": "python",
   "pygments_lexer": "ipython3",
   "version": "3.6.7"
  }
 },
 "nbformat": 4,
 "nbformat_minor": 4
}
