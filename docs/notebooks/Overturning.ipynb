{
 "cells": [
  {
   "cell_type": "markdown",
   "metadata": {},
   "source": [
    "# Computing Meridional Overturning"
   ]
  },
  {
   "cell_type": "markdown",
   "metadata": {},
   "source": [
    "Meriodional Overturning Circulation is a key diagnostic for ocean circulation. This notebook demonstrate how to compute various flavors of it using the [xoverturning](https://github.com/raphaeldussin/xoverturning) package."
   ]
  },
  {
   "cell_type": "code",
   "execution_count": 1,
   "metadata": {},
   "outputs": [],
   "source": [
    "import xarray as xr # requires >= 0.15.1\n",
    "import numpy as np"
   ]
  },
  {
   "cell_type": "code",
   "execution_count": 2,
   "metadata": {},
   "outputs": [],
   "source": [
    "import warnings\n",
    "warnings.filterwarnings(\"ignore\")"
   ]
  },
  {
   "cell_type": "code",
   "execution_count": 3,
   "metadata": {},
   "outputs": [],
   "source": [
    "%matplotlib inline"
   ]
  },
  {
   "cell_type": "markdown",
   "metadata": {},
   "source": [
    "Load the sample dataset and geolon/geolat from static file (without holes on eliminated processors). Note that this is working for both symetric and non-symetric grids but the dataset and grid file must be consistent."
   ]
  },
  {
   "cell_type": "code",
   "execution_count": 4,
   "metadata": {},
   "outputs": [],
   "source": [
    "dataurl = 'http://35.188.34.63:8080/thredds/dodsC/OM4p5/'\n",
    "\n",
    "ds = xr.open_dataset(f'{dataurl}/ocean_monthly_z.200301-200712.nc4',\n",
    "                     chunks={'time':1, 'z_l': 1}, engine='pydap')"
   ]
  },
  {
   "cell_type": "code",
   "execution_count": 5,
   "metadata": {},
   "outputs": [],
   "source": [
    "dsgrid = xr.open_dataset('./data/ocean_grid_nonsym_OM4_05.nc')"
   ]
  },
  {
   "cell_type": "markdown",
   "metadata": {},
   "source": [
    "## A first overturning computation"
   ]
  },
  {
   "cell_type": "code",
   "execution_count": 6,
   "metadata": {},
   "outputs": [],
   "source": [
    "from xoverturning import calcmoc"
   ]
  },
  {
   "cell_type": "markdown",
   "metadata": {},
   "source": [
    "This computes the meridional overturning circulation (moc) on the whole ocean:"
   ]
  },
  {
   "cell_type": "code",
   "execution_count": 7,
   "metadata": {},
   "outputs": [
    {
     "name": "stdout",
     "output_type": "stream",
     "text": [
      "generating basin codes\n"
     ]
    }
   ],
   "source": [
    "moc = calcmoc(ds, dsgrid=dsgrid)"
   ]
  },
  {
   "cell_type": "markdown",
   "metadata": {},
   "source": [
    "The result is given at the vertical interfaces since the streamfunction is the result of the integration of transports over layers and on the q-point because V-velocities are located on (xh, yq) and integrated over the x-axis."
   ]
  },
  {
   "cell_type": "code",
   "execution_count": 8,
   "metadata": {},
   "outputs": [
    {
     "data": {
      "text/html": [
       "<div><svg style=\"position: absolute; width: 0; height: 0; overflow: hidden\">\n",
       "<defs>\n",
       "<symbol id=\"icon-database\" viewBox=\"0 0 32 32\">\n",
       "<path d=\"M16 0c-8.837 0-16 2.239-16 5v4c0 2.761 7.163 5 16 5s16-2.239 16-5v-4c0-2.761-7.163-5-16-5z\"></path>\n",
       "<path d=\"M16 17c-8.837 0-16-2.239-16-5v6c0 2.761 7.163 5 16 5s16-2.239 16-5v-6c0 2.761-7.163 5-16 5z\"></path>\n",
       "<path d=\"M16 26c-8.837 0-16-2.239-16-5v6c0 2.761 7.163 5 16 5s16-2.239 16-5v-6c0 2.761-7.163 5-16 5z\"></path>\n",
       "</symbol>\n",
       "<symbol id=\"icon-file-text2\" viewBox=\"0 0 32 32\">\n",
       "<path d=\"M28.681 7.159c-0.694-0.947-1.662-2.053-2.724-3.116s-2.169-2.030-3.116-2.724c-1.612-1.182-2.393-1.319-2.841-1.319h-15.5c-1.378 0-2.5 1.121-2.5 2.5v27c0 1.378 1.122 2.5 2.5 2.5h23c1.378 0 2.5-1.122 2.5-2.5v-19.5c0-0.448-0.137-1.23-1.319-2.841zM24.543 5.457c0.959 0.959 1.712 1.825 2.268 2.543h-4.811v-4.811c0.718 0.556 1.584 1.309 2.543 2.268zM28 29.5c0 0.271-0.229 0.5-0.5 0.5h-23c-0.271 0-0.5-0.229-0.5-0.5v-27c0-0.271 0.229-0.5 0.5-0.5 0 0 15.499-0 15.5 0v7c0 0.552 0.448 1 1 1h7v19.5z\"></path>\n",
       "<path d=\"M23 26h-14c-0.552 0-1-0.448-1-1s0.448-1 1-1h14c0.552 0 1 0.448 1 1s-0.448 1-1 1z\"></path>\n",
       "<path d=\"M23 22h-14c-0.552 0-1-0.448-1-1s0.448-1 1-1h14c0.552 0 1 0.448 1 1s-0.448 1-1 1z\"></path>\n",
       "<path d=\"M23 18h-14c-0.552 0-1-0.448-1-1s0.448-1 1-1h14c0.552 0 1 0.448 1 1s-0.448 1-1 1z\"></path>\n",
       "</symbol>\n",
       "</defs>\n",
       "</svg>\n",
       "<style>/* CSS stylesheet for displaying xarray objects in jupyterlab.\n",
       " *\n",
       " */\n",
       "\n",
       ":root {\n",
       "  --xr-font-color0: var(--jp-content-font-color0, rgba(0, 0, 0, 1));\n",
       "  --xr-font-color2: var(--jp-content-font-color2, rgba(0, 0, 0, 0.54));\n",
       "  --xr-font-color3: var(--jp-content-font-color3, rgba(0, 0, 0, 0.38));\n",
       "  --xr-border-color: var(--jp-border-color2, #e0e0e0);\n",
       "  --xr-disabled-color: var(--jp-layout-color3, #bdbdbd);\n",
       "  --xr-background-color: var(--jp-layout-color0, white);\n",
       "  --xr-background-color-row-even: var(--jp-layout-color1, white);\n",
       "  --xr-background-color-row-odd: var(--jp-layout-color2, #eeeeee);\n",
       "}\n",
       "\n",
       "html[theme=dark],\n",
       "body.vscode-dark {\n",
       "  --xr-font-color0: rgba(255, 255, 255, 1);\n",
       "  --xr-font-color2: rgba(255, 255, 255, 0.54);\n",
       "  --xr-font-color3: rgba(255, 255, 255, 0.38);\n",
       "  --xr-border-color: #1F1F1F;\n",
       "  --xr-disabled-color: #515151;\n",
       "  --xr-background-color: #111111;\n",
       "  --xr-background-color-row-even: #111111;\n",
       "  --xr-background-color-row-odd: #313131;\n",
       "}\n",
       "\n",
       ".xr-wrap {\n",
       "  display: block;\n",
       "  min-width: 300px;\n",
       "  max-width: 700px;\n",
       "}\n",
       "\n",
       ".xr-text-repr-fallback {\n",
       "  /* fallback to plain text repr when CSS is not injected (untrusted notebook) */\n",
       "  display: none;\n",
       "}\n",
       "\n",
       ".xr-header {\n",
       "  padding-top: 6px;\n",
       "  padding-bottom: 6px;\n",
       "  margin-bottom: 4px;\n",
       "  border-bottom: solid 1px var(--xr-border-color);\n",
       "}\n",
       "\n",
       ".xr-header > div,\n",
       ".xr-header > ul {\n",
       "  display: inline;\n",
       "  margin-top: 0;\n",
       "  margin-bottom: 0;\n",
       "}\n",
       "\n",
       ".xr-obj-type,\n",
       ".xr-array-name {\n",
       "  margin-left: 2px;\n",
       "  margin-right: 10px;\n",
       "}\n",
       "\n",
       ".xr-obj-type {\n",
       "  color: var(--xr-font-color2);\n",
       "}\n",
       "\n",
       ".xr-sections {\n",
       "  padding-left: 0 !important;\n",
       "  display: grid;\n",
       "  grid-template-columns: 150px auto auto 1fr 20px 20px;\n",
       "}\n",
       "\n",
       ".xr-section-item {\n",
       "  display: contents;\n",
       "}\n",
       "\n",
       ".xr-section-item input {\n",
       "  display: none;\n",
       "}\n",
       "\n",
       ".xr-section-item input + label {\n",
       "  color: var(--xr-disabled-color);\n",
       "}\n",
       "\n",
       ".xr-section-item input:enabled + label {\n",
       "  cursor: pointer;\n",
       "  color: var(--xr-font-color2);\n",
       "}\n",
       "\n",
       ".xr-section-item input:enabled + label:hover {\n",
       "  color: var(--xr-font-color0);\n",
       "}\n",
       "\n",
       ".xr-section-summary {\n",
       "  grid-column: 1;\n",
       "  color: var(--xr-font-color2);\n",
       "  font-weight: 500;\n",
       "}\n",
       "\n",
       ".xr-section-summary > span {\n",
       "  display: inline-block;\n",
       "  padding-left: 0.5em;\n",
       "}\n",
       "\n",
       ".xr-section-summary-in:disabled + label {\n",
       "  color: var(--xr-font-color2);\n",
       "}\n",
       "\n",
       ".xr-section-summary-in + label:before {\n",
       "  display: inline-block;\n",
       "  content: '►';\n",
       "  font-size: 11px;\n",
       "  width: 15px;\n",
       "  text-align: center;\n",
       "}\n",
       "\n",
       ".xr-section-summary-in:disabled + label:before {\n",
       "  color: var(--xr-disabled-color);\n",
       "}\n",
       "\n",
       ".xr-section-summary-in:checked + label:before {\n",
       "  content: '▼';\n",
       "}\n",
       "\n",
       ".xr-section-summary-in:checked + label > span {\n",
       "  display: none;\n",
       "}\n",
       "\n",
       ".xr-section-summary,\n",
       ".xr-section-inline-details {\n",
       "  padding-top: 4px;\n",
       "  padding-bottom: 4px;\n",
       "}\n",
       "\n",
       ".xr-section-inline-details {\n",
       "  grid-column: 2 / -1;\n",
       "}\n",
       "\n",
       ".xr-section-details {\n",
       "  display: none;\n",
       "  grid-column: 1 / -1;\n",
       "  margin-bottom: 5px;\n",
       "}\n",
       "\n",
       ".xr-section-summary-in:checked ~ .xr-section-details {\n",
       "  display: contents;\n",
       "}\n",
       "\n",
       ".xr-array-wrap {\n",
       "  grid-column: 1 / -1;\n",
       "  display: grid;\n",
       "  grid-template-columns: 20px auto;\n",
       "}\n",
       "\n",
       ".xr-array-wrap > label {\n",
       "  grid-column: 1;\n",
       "  vertical-align: top;\n",
       "}\n",
       "\n",
       ".xr-preview {\n",
       "  color: var(--xr-font-color3);\n",
       "}\n",
       "\n",
       ".xr-array-preview,\n",
       ".xr-array-data {\n",
       "  padding: 0 5px !important;\n",
       "  grid-column: 2;\n",
       "}\n",
       "\n",
       ".xr-array-data,\n",
       ".xr-array-in:checked ~ .xr-array-preview {\n",
       "  display: none;\n",
       "}\n",
       "\n",
       ".xr-array-in:checked ~ .xr-array-data,\n",
       ".xr-array-preview {\n",
       "  display: inline-block;\n",
       "}\n",
       "\n",
       ".xr-dim-list {\n",
       "  display: inline-block !important;\n",
       "  list-style: none;\n",
       "  padding: 0 !important;\n",
       "  margin: 0;\n",
       "}\n",
       "\n",
       ".xr-dim-list li {\n",
       "  display: inline-block;\n",
       "  padding: 0;\n",
       "  margin: 0;\n",
       "}\n",
       "\n",
       ".xr-dim-list:before {\n",
       "  content: '(';\n",
       "}\n",
       "\n",
       ".xr-dim-list:after {\n",
       "  content: ')';\n",
       "}\n",
       "\n",
       ".xr-dim-list li:not(:last-child):after {\n",
       "  content: ',';\n",
       "  padding-right: 5px;\n",
       "}\n",
       "\n",
       ".xr-has-index {\n",
       "  font-weight: bold;\n",
       "}\n",
       "\n",
       ".xr-var-list,\n",
       ".xr-var-item {\n",
       "  display: contents;\n",
       "}\n",
       "\n",
       ".xr-var-item > div,\n",
       ".xr-var-item label,\n",
       ".xr-var-item > .xr-var-name span {\n",
       "  background-color: var(--xr-background-color-row-even);\n",
       "  margin-bottom: 0;\n",
       "}\n",
       "\n",
       ".xr-var-item > .xr-var-name:hover span {\n",
       "  padding-right: 5px;\n",
       "}\n",
       "\n",
       ".xr-var-list > li:nth-child(odd) > div,\n",
       ".xr-var-list > li:nth-child(odd) > label,\n",
       ".xr-var-list > li:nth-child(odd) > .xr-var-name span {\n",
       "  background-color: var(--xr-background-color-row-odd);\n",
       "}\n",
       "\n",
       ".xr-var-name {\n",
       "  grid-column: 1;\n",
       "}\n",
       "\n",
       ".xr-var-dims {\n",
       "  grid-column: 2;\n",
       "}\n",
       "\n",
       ".xr-var-dtype {\n",
       "  grid-column: 3;\n",
       "  text-align: right;\n",
       "  color: var(--xr-font-color2);\n",
       "}\n",
       "\n",
       ".xr-var-preview {\n",
       "  grid-column: 4;\n",
       "}\n",
       "\n",
       ".xr-var-name,\n",
       ".xr-var-dims,\n",
       ".xr-var-dtype,\n",
       ".xr-preview,\n",
       ".xr-attrs dt {\n",
       "  white-space: nowrap;\n",
       "  overflow: hidden;\n",
       "  text-overflow: ellipsis;\n",
       "  padding-right: 10px;\n",
       "}\n",
       "\n",
       ".xr-var-name:hover,\n",
       ".xr-var-dims:hover,\n",
       ".xr-var-dtype:hover,\n",
       ".xr-attrs dt:hover {\n",
       "  overflow: visible;\n",
       "  width: auto;\n",
       "  z-index: 1;\n",
       "}\n",
       "\n",
       ".xr-var-attrs,\n",
       ".xr-var-data {\n",
       "  display: none;\n",
       "  background-color: var(--xr-background-color) !important;\n",
       "  padding-bottom: 5px !important;\n",
       "}\n",
       "\n",
       ".xr-var-attrs-in:checked ~ .xr-var-attrs,\n",
       ".xr-var-data-in:checked ~ .xr-var-data {\n",
       "  display: block;\n",
       "}\n",
       "\n",
       ".xr-var-data > table {\n",
       "  float: right;\n",
       "}\n",
       "\n",
       ".xr-var-name span,\n",
       ".xr-var-data,\n",
       ".xr-attrs {\n",
       "  padding-left: 25px !important;\n",
       "}\n",
       "\n",
       ".xr-attrs,\n",
       ".xr-var-attrs,\n",
       ".xr-var-data {\n",
       "  grid-column: 1 / -1;\n",
       "}\n",
       "\n",
       "dl.xr-attrs {\n",
       "  padding: 0;\n",
       "  margin: 0;\n",
       "  display: grid;\n",
       "  grid-template-columns: 125px auto;\n",
       "}\n",
       "\n",
       ".xr-attrs dt,\n",
       ".xr-attrs dd {\n",
       "  padding: 0;\n",
       "  margin: 0;\n",
       "  float: left;\n",
       "  padding-right: 10px;\n",
       "  width: auto;\n",
       "}\n",
       "\n",
       ".xr-attrs dt {\n",
       "  font-weight: normal;\n",
       "  grid-column: 1;\n",
       "}\n",
       "\n",
       ".xr-attrs dt:hover span {\n",
       "  display: inline-block;\n",
       "  background: var(--xr-background-color);\n",
       "  padding-right: 10px;\n",
       "}\n",
       "\n",
       ".xr-attrs dd {\n",
       "  grid-column: 2;\n",
       "  white-space: pre-wrap;\n",
       "  word-break: break-all;\n",
       "}\n",
       "\n",
       ".xr-icon-database,\n",
       ".xr-icon-file-text2 {\n",
       "  display: inline-block;\n",
       "  vertical-align: middle;\n",
       "  width: 1em;\n",
       "  height: 1.5em !important;\n",
       "  stroke-width: 0;\n",
       "  stroke: currentColor;\n",
       "  fill: currentColor;\n",
       "}\n",
       "</style><pre class='xr-text-repr-fallback'>&lt;xarray.DataArray &#x27;psi&#x27; (time: 60, z_i: 36, yq: 576)&gt;\n",
       "dask.array&lt;truediv, shape=(60, 36, 576), dtype=float32, chunksize=(1, 36, 576), chunktype=numpy.ndarray&gt;\n",
       "Coordinates:\n",
       "  * yq       (yq) float64 -77.82 -77.63 -77.45 -77.26 ... 89.37 89.58 89.79 90.0\n",
       "  * z_i      (z_i) float64 0.0 5.0 15.0 25.0 ... 5.75e+03 6.25e+03 6.75e+03\n",
       "  * time     (time) object 2003-01-16 12:00:00 ... 2007-12-16 12:00:00</pre><div class='xr-wrap' hidden><div class='xr-header'><div class='xr-obj-type'>xarray.DataArray</div><div class='xr-array-name'>'psi'</div><ul class='xr-dim-list'><li><span class='xr-has-index'>time</span>: 60</li><li><span class='xr-has-index'>z_i</span>: 36</li><li><span class='xr-has-index'>yq</span>: 576</li></ul></div><ul class='xr-sections'><li class='xr-section-item'><div class='xr-array-wrap'><input id='section-55e77576-115e-463a-ab0f-005b8666c152' class='xr-array-in' type='checkbox' checked><label for='section-55e77576-115e-463a-ab0f-005b8666c152' title='Show/hide data repr'><svg class='icon xr-icon-database'><use xlink:href='#icon-database'></use></svg></label><div class='xr-array-preview xr-preview'><span>dask.array&lt;chunksize=(1, 36, 576), meta=np.ndarray&gt;</span></div><div class='xr-array-data'><table>\n",
       "<tr>\n",
       "<td>\n",
       "<table>\n",
       "  <thead>\n",
       "    <tr><td> </td><th> Array </th><th> Chunk </th></tr>\n",
       "  </thead>\n",
       "  <tbody>\n",
       "    <tr><th> Bytes </th><td> 4.98 MB </td> <td> 82.94 kB </td></tr>\n",
       "    <tr><th> Shape </th><td> (60, 36, 576) </td> <td> (1, 36, 576) </td></tr>\n",
       "    <tr><th> Count </th><td> 30727 Tasks </td><td> 60 Chunks </td></tr>\n",
       "    <tr><th> Type </th><td> float32 </td><td> numpy.ndarray </td></tr>\n",
       "  </tbody>\n",
       "</table>\n",
       "</td>\n",
       "<td>\n",
       "<svg width=\"202\" height=\"108\" style=\"stroke:rgb(0,0,0);stroke-width:1\" >\n",
       "\n",
       "  <!-- Horizontal lines -->\n",
       "  <line x1=\"10\" y1=\"0\" x2=\"32\" y2=\"22\" style=\"stroke-width:2\" />\n",
       "  <line x1=\"10\" y1=\"35\" x2=\"32\" y2=\"58\" style=\"stroke-width:2\" />\n",
       "\n",
       "  <!-- Vertical lines -->\n",
       "  <line x1=\"10\" y1=\"0\" x2=\"10\" y2=\"35\" style=\"stroke-width:2\" />\n",
       "  <line x1=\"10\" y1=\"0\" x2=\"10\" y2=\"36\" />\n",
       "  <line x1=\"10\" y1=\"0\" x2=\"10\" y2=\"36\" />\n",
       "  <line x1=\"11\" y1=\"1\" x2=\"11\" y2=\"37\" />\n",
       "  <line x1=\"11\" y1=\"1\" x2=\"11\" y2=\"37\" />\n",
       "  <line x1=\"11\" y1=\"1\" x2=\"11\" y2=\"37\" />\n",
       "  <line x1=\"12\" y1=\"2\" x2=\"12\" y2=\"38\" />\n",
       "  <line x1=\"12\" y1=\"2\" x2=\"12\" y2=\"38\" />\n",
       "  <line x1=\"13\" y1=\"3\" x2=\"13\" y2=\"38\" />\n",
       "  <line x1=\"13\" y1=\"3\" x2=\"13\" y2=\"39\" />\n",
       "  <line x1=\"13\" y1=\"3\" x2=\"13\" y2=\"39\" />\n",
       "  <line x1=\"14\" y1=\"4\" x2=\"14\" y2=\"40\" />\n",
       "  <line x1=\"14\" y1=\"4\" x2=\"14\" y2=\"40\" />\n",
       "  <line x1=\"14\" y1=\"4\" x2=\"14\" y2=\"40\" />\n",
       "  <line x1=\"15\" y1=\"5\" x2=\"15\" y2=\"41\" />\n",
       "  <line x1=\"15\" y1=\"5\" x2=\"15\" y2=\"41\" />\n",
       "  <line x1=\"16\" y1=\"6\" x2=\"16\" y2=\"41\" />\n",
       "  <line x1=\"16\" y1=\"6\" x2=\"16\" y2=\"42\" />\n",
       "  <line x1=\"16\" y1=\"6\" x2=\"16\" y2=\"42\" />\n",
       "  <line x1=\"17\" y1=\"7\" x2=\"17\" y2=\"43\" />\n",
       "  <line x1=\"17\" y1=\"7\" x2=\"17\" y2=\"43\" />\n",
       "  <line x1=\"17\" y1=\"7\" x2=\"17\" y2=\"43\" />\n",
       "  <line x1=\"18\" y1=\"8\" x2=\"18\" y2=\"44\" />\n",
       "  <line x1=\"18\" y1=\"8\" x2=\"18\" y2=\"44\" />\n",
       "  <line x1=\"19\" y1=\"9\" x2=\"19\" y2=\"44\" />\n",
       "  <line x1=\"19\" y1=\"9\" x2=\"19\" y2=\"45\" />\n",
       "  <line x1=\"19\" y1=\"9\" x2=\"19\" y2=\"45\" />\n",
       "  <line x1=\"20\" y1=\"10\" x2=\"20\" y2=\"46\" />\n",
       "  <line x1=\"20\" y1=\"10\" x2=\"20\" y2=\"46\" />\n",
       "  <line x1=\"21\" y1=\"11\" x2=\"21\" y2=\"46\" />\n",
       "  <line x1=\"21\" y1=\"11\" x2=\"21\" y2=\"47\" />\n",
       "  <line x1=\"21\" y1=\"11\" x2=\"21\" y2=\"47\" />\n",
       "  <line x1=\"22\" y1=\"12\" x2=\"22\" y2=\"48\" />\n",
       "  <line x1=\"22\" y1=\"12\" x2=\"22\" y2=\"48\" />\n",
       "  <line x1=\"22\" y1=\"12\" x2=\"22\" y2=\"48\" />\n",
       "  <line x1=\"23\" y1=\"13\" x2=\"23\" y2=\"49\" />\n",
       "  <line x1=\"23\" y1=\"13\" x2=\"23\" y2=\"49\" />\n",
       "  <line x1=\"24\" y1=\"14\" x2=\"24\" y2=\"49\" />\n",
       "  <line x1=\"24\" y1=\"14\" x2=\"24\" y2=\"50\" />\n",
       "  <line x1=\"24\" y1=\"14\" x2=\"24\" y2=\"50\" />\n",
       "  <line x1=\"25\" y1=\"15\" x2=\"25\" y2=\"51\" />\n",
       "  <line x1=\"25\" y1=\"15\" x2=\"25\" y2=\"51\" />\n",
       "  <line x1=\"25\" y1=\"15\" x2=\"25\" y2=\"51\" />\n",
       "  <line x1=\"26\" y1=\"16\" x2=\"26\" y2=\"52\" />\n",
       "  <line x1=\"26\" y1=\"16\" x2=\"26\" y2=\"52\" />\n",
       "  <line x1=\"27\" y1=\"17\" x2=\"27\" y2=\"52\" />\n",
       "  <line x1=\"27\" y1=\"17\" x2=\"27\" y2=\"53\" />\n",
       "  <line x1=\"27\" y1=\"17\" x2=\"27\" y2=\"53\" />\n",
       "  <line x1=\"28\" y1=\"18\" x2=\"28\" y2=\"54\" />\n",
       "  <line x1=\"28\" y1=\"18\" x2=\"28\" y2=\"54\" />\n",
       "  <line x1=\"29\" y1=\"19\" x2=\"29\" y2=\"54\" />\n",
       "  <line x1=\"29\" y1=\"19\" x2=\"29\" y2=\"55\" />\n",
       "  <line x1=\"29\" y1=\"19\" x2=\"29\" y2=\"55\" />\n",
       "  <line x1=\"30\" y1=\"20\" x2=\"30\" y2=\"56\" />\n",
       "  <line x1=\"30\" y1=\"20\" x2=\"30\" y2=\"56\" />\n",
       "  <line x1=\"30\" y1=\"20\" x2=\"30\" y2=\"56\" />\n",
       "  <line x1=\"31\" y1=\"21\" x2=\"31\" y2=\"57\" />\n",
       "  <line x1=\"31\" y1=\"21\" x2=\"31\" y2=\"57\" />\n",
       "  <line x1=\"32\" y1=\"22\" x2=\"32\" y2=\"57\" />\n",
       "  <line x1=\"32\" y1=\"22\" x2=\"32\" y2=\"58\" />\n",
       "  <line x1=\"32\" y1=\"22\" x2=\"32\" y2=\"58\" style=\"stroke-width:2\" />\n",
       "\n",
       "  <!-- Colored Rectangle -->\n",
       "  <polygon points=\"10.000000,0.000000 32.836385,22.836385 32.836385,58.695932 10.000000,35.859547\" style=\"fill:#ECB172A0;stroke-width:0\"/>\n",
       "\n",
       "  <!-- Horizontal lines -->\n",
       "  <line x1=\"10\" y1=\"0\" x2=\"130\" y2=\"0\" style=\"stroke-width:2\" />\n",
       "  <line x1=\"10\" y1=\"0\" x2=\"130\" y2=\"0\" />\n",
       "  <line x1=\"10\" y1=\"0\" x2=\"130\" y2=\"0\" />\n",
       "  <line x1=\"11\" y1=\"1\" x2=\"131\" y2=\"1\" />\n",
       "  <line x1=\"11\" y1=\"1\" x2=\"131\" y2=\"1\" />\n",
       "  <line x1=\"11\" y1=\"1\" x2=\"131\" y2=\"1\" />\n",
       "  <line x1=\"12\" y1=\"2\" x2=\"132\" y2=\"2\" />\n",
       "  <line x1=\"12\" y1=\"2\" x2=\"132\" y2=\"2\" />\n",
       "  <line x1=\"13\" y1=\"3\" x2=\"133\" y2=\"3\" />\n",
       "  <line x1=\"13\" y1=\"3\" x2=\"133\" y2=\"3\" />\n",
       "  <line x1=\"13\" y1=\"3\" x2=\"133\" y2=\"3\" />\n",
       "  <line x1=\"14\" y1=\"4\" x2=\"134\" y2=\"4\" />\n",
       "  <line x1=\"14\" y1=\"4\" x2=\"134\" y2=\"4\" />\n",
       "  <line x1=\"14\" y1=\"4\" x2=\"134\" y2=\"4\" />\n",
       "  <line x1=\"15\" y1=\"5\" x2=\"135\" y2=\"5\" />\n",
       "  <line x1=\"15\" y1=\"5\" x2=\"135\" y2=\"5\" />\n",
       "  <line x1=\"16\" y1=\"6\" x2=\"136\" y2=\"6\" />\n",
       "  <line x1=\"16\" y1=\"6\" x2=\"136\" y2=\"6\" />\n",
       "  <line x1=\"16\" y1=\"6\" x2=\"136\" y2=\"6\" />\n",
       "  <line x1=\"17\" y1=\"7\" x2=\"137\" y2=\"7\" />\n",
       "  <line x1=\"17\" y1=\"7\" x2=\"137\" y2=\"7\" />\n",
       "  <line x1=\"17\" y1=\"7\" x2=\"137\" y2=\"7\" />\n",
       "  <line x1=\"18\" y1=\"8\" x2=\"138\" y2=\"8\" />\n",
       "  <line x1=\"18\" y1=\"8\" x2=\"138\" y2=\"8\" />\n",
       "  <line x1=\"19\" y1=\"9\" x2=\"139\" y2=\"9\" />\n",
       "  <line x1=\"19\" y1=\"9\" x2=\"139\" y2=\"9\" />\n",
       "  <line x1=\"19\" y1=\"9\" x2=\"139\" y2=\"9\" />\n",
       "  <line x1=\"20\" y1=\"10\" x2=\"140\" y2=\"10\" />\n",
       "  <line x1=\"20\" y1=\"10\" x2=\"140\" y2=\"10\" />\n",
       "  <line x1=\"21\" y1=\"11\" x2=\"141\" y2=\"11\" />\n",
       "  <line x1=\"21\" y1=\"11\" x2=\"141\" y2=\"11\" />\n",
       "  <line x1=\"21\" y1=\"11\" x2=\"141\" y2=\"11\" />\n",
       "  <line x1=\"22\" y1=\"12\" x2=\"142\" y2=\"12\" />\n",
       "  <line x1=\"22\" y1=\"12\" x2=\"142\" y2=\"12\" />\n",
       "  <line x1=\"22\" y1=\"12\" x2=\"142\" y2=\"12\" />\n",
       "  <line x1=\"23\" y1=\"13\" x2=\"143\" y2=\"13\" />\n",
       "  <line x1=\"23\" y1=\"13\" x2=\"143\" y2=\"13\" />\n",
       "  <line x1=\"24\" y1=\"14\" x2=\"144\" y2=\"14\" />\n",
       "  <line x1=\"24\" y1=\"14\" x2=\"144\" y2=\"14\" />\n",
       "  <line x1=\"24\" y1=\"14\" x2=\"144\" y2=\"14\" />\n",
       "  <line x1=\"25\" y1=\"15\" x2=\"145\" y2=\"15\" />\n",
       "  <line x1=\"25\" y1=\"15\" x2=\"145\" y2=\"15\" />\n",
       "  <line x1=\"25\" y1=\"15\" x2=\"145\" y2=\"15\" />\n",
       "  <line x1=\"26\" y1=\"16\" x2=\"146\" y2=\"16\" />\n",
       "  <line x1=\"26\" y1=\"16\" x2=\"146\" y2=\"16\" />\n",
       "  <line x1=\"27\" y1=\"17\" x2=\"147\" y2=\"17\" />\n",
       "  <line x1=\"27\" y1=\"17\" x2=\"147\" y2=\"17\" />\n",
       "  <line x1=\"27\" y1=\"17\" x2=\"147\" y2=\"17\" />\n",
       "  <line x1=\"28\" y1=\"18\" x2=\"148\" y2=\"18\" />\n",
       "  <line x1=\"28\" y1=\"18\" x2=\"148\" y2=\"18\" />\n",
       "  <line x1=\"29\" y1=\"19\" x2=\"149\" y2=\"19\" />\n",
       "  <line x1=\"29\" y1=\"19\" x2=\"149\" y2=\"19\" />\n",
       "  <line x1=\"29\" y1=\"19\" x2=\"149\" y2=\"19\" />\n",
       "  <line x1=\"30\" y1=\"20\" x2=\"150\" y2=\"20\" />\n",
       "  <line x1=\"30\" y1=\"20\" x2=\"150\" y2=\"20\" />\n",
       "  <line x1=\"30\" y1=\"20\" x2=\"150\" y2=\"20\" />\n",
       "  <line x1=\"31\" y1=\"21\" x2=\"151\" y2=\"21\" />\n",
       "  <line x1=\"31\" y1=\"21\" x2=\"151\" y2=\"21\" />\n",
       "  <line x1=\"32\" y1=\"22\" x2=\"152\" y2=\"22\" />\n",
       "  <line x1=\"32\" y1=\"22\" x2=\"152\" y2=\"22\" />\n",
       "  <line x1=\"32\" y1=\"22\" x2=\"152\" y2=\"22\" style=\"stroke-width:2\" />\n",
       "\n",
       "  <!-- Vertical lines -->\n",
       "  <line x1=\"10\" y1=\"0\" x2=\"32\" y2=\"22\" style=\"stroke-width:2\" />\n",
       "  <line x1=\"130\" y1=\"0\" x2=\"152\" y2=\"22\" style=\"stroke-width:2\" />\n",
       "\n",
       "  <!-- Colored Rectangle -->\n",
       "  <polygon points=\"10.000000,0.000000 130.000000,0.000000 152.836385,22.836385 32.836385,22.836385\" style=\"fill:#ECB172A0;stroke-width:0\"/>\n",
       "\n",
       "  <!-- Horizontal lines -->\n",
       "  <line x1=\"32\" y1=\"22\" x2=\"152\" y2=\"22\" style=\"stroke-width:2\" />\n",
       "  <line x1=\"32\" y1=\"58\" x2=\"152\" y2=\"58\" style=\"stroke-width:2\" />\n",
       "\n",
       "  <!-- Vertical lines -->\n",
       "  <line x1=\"32\" y1=\"22\" x2=\"32\" y2=\"58\" style=\"stroke-width:2\" />\n",
       "  <line x1=\"152\" y1=\"22\" x2=\"152\" y2=\"58\" style=\"stroke-width:2\" />\n",
       "\n",
       "  <!-- Colored Rectangle -->\n",
       "  <polygon points=\"32.836385,22.836385 152.836385,22.836385 152.836385,58.695932 32.836385,58.695932\" style=\"fill:#ECB172A0;stroke-width:0\"/>\n",
       "\n",
       "  <!-- Text -->\n",
       "  <text x=\"92.836385\" y=\"78.695932\" font-size=\"1.0rem\" font-weight=\"100\" text-anchor=\"middle\" >576</text>\n",
       "  <text x=\"172.836385\" y=\"40.766159\" font-size=\"1.0rem\" font-weight=\"100\" text-anchor=\"middle\" transform=\"rotate(0,172.836385,40.766159)\">36</text>\n",
       "  <text x=\"11.418192\" y=\"67.277740\" font-size=\"1.0rem\" font-weight=\"100\" text-anchor=\"middle\" transform=\"rotate(45,11.418192,67.277740)\">60</text>\n",
       "</svg>\n",
       "</td>\n",
       "</tr>\n",
       "</table></div></div></li><li class='xr-section-item'><input id='section-9918a00d-6bb2-421a-9ff5-4f4b354f3f08' class='xr-section-summary-in' type='checkbox'  checked><label for='section-9918a00d-6bb2-421a-9ff5-4f4b354f3f08' class='xr-section-summary' >Coordinates: <span>(3)</span></label><div class='xr-section-inline-details'></div><div class='xr-section-details'><ul class='xr-var-list'><li class='xr-var-item'><div class='xr-var-name'><span class='xr-has-index'>yq</span></div><div class='xr-var-dims'>(yq)</div><div class='xr-var-dtype'>float64</div><div class='xr-var-preview xr-preview'>-77.82 -77.63 -77.45 ... 89.79 90.0</div><input id='attrs-0e78031f-de67-4291-9772-ab82a03f5b08' class='xr-var-attrs-in' type='checkbox' ><label for='attrs-0e78031f-de67-4291-9772-ab82a03f5b08' title='Show/Hide attributes'><svg class='icon xr-icon-file-text2'><use xlink:href='#icon-file-text2'></use></svg></label><input id='data-ca7c9c60-fa9a-499a-a908-04217c3bf84c' class='xr-var-data-in' type='checkbox'><label for='data-ca7c9c60-fa9a-499a-a908-04217c3bf84c' title='Show/Hide data repr'><svg class='icon xr-icon-database'><use xlink:href='#icon-database'></use></svg></label><div class='xr-var-attrs'><dl class='xr-attrs'><dt><span>long_name :</span></dt><dd>q point nominal latitude</dd><dt><span>units :</span></dt><dd>degrees_north</dd><dt><span>cartesian_axis :</span></dt><dd>Y</dd></dl></div><div class='xr-var-data'><pre>array([-77.815875, -77.63175 , -77.447625, ...,  89.5776  ,  89.7888  ,\n",
       "        90.      ])</pre></div></li><li class='xr-var-item'><div class='xr-var-name'><span class='xr-has-index'>z_i</span></div><div class='xr-var-dims'>(z_i)</div><div class='xr-var-dtype'>float64</div><div class='xr-var-preview xr-preview'>0.0 5.0 15.0 ... 6.25e+03 6.75e+03</div><input id='attrs-c771d904-9032-4245-b2eb-b22a484aa1d7' class='xr-var-attrs-in' type='checkbox' ><label for='attrs-c771d904-9032-4245-b2eb-b22a484aa1d7' title='Show/Hide attributes'><svg class='icon xr-icon-file-text2'><use xlink:href='#icon-file-text2'></use></svg></label><input id='data-f4b8d65a-4af0-43cf-9482-d7d3a9f626c2' class='xr-var-data-in' type='checkbox'><label for='data-f4b8d65a-4af0-43cf-9482-d7d3a9f626c2' title='Show/Hide data repr'><svg class='icon xr-icon-database'><use xlink:href='#icon-database'></use></svg></label><div class='xr-var-attrs'><dl class='xr-attrs'><dt><span>long_name :</span></dt><dd>Depth at interface</dd><dt><span>units :</span></dt><dd>meters</dd><dt><span>cartesian_axis :</span></dt><dd>Z</dd><dt><span>positive :</span></dt><dd>down</dd><dt><span>_ChunkSizes :</span></dt><dd>36</dd></dl></div><div class='xr-var-data'><pre>array([0.000e+00, 5.000e+00, 1.500e+01, 2.500e+01, 4.000e+01, 6.250e+01,\n",
       "       8.750e+01, 1.125e+02, 1.375e+02, 1.750e+02, 2.250e+02, 2.750e+02,\n",
       "       3.500e+02, 4.500e+02, 5.500e+02, 6.500e+02, 7.500e+02, 8.500e+02,\n",
       "       9.500e+02, 1.050e+03, 1.150e+03, 1.250e+03, 1.350e+03, 1.450e+03,\n",
       "       1.625e+03, 1.875e+03, 2.250e+03, 2.750e+03, 3.250e+03, 3.750e+03,\n",
       "       4.250e+03, 4.750e+03, 5.250e+03, 5.750e+03, 6.250e+03, 6.750e+03])</pre></div></li><li class='xr-var-item'><div class='xr-var-name'><span class='xr-has-index'>time</span></div><div class='xr-var-dims'>(time)</div><div class='xr-var-dtype'>object</div><div class='xr-var-preview xr-preview'>2003-01-16 12:00:00 ... 2007-12-...</div><input id='attrs-2645d33e-c292-44d1-b41a-c708c063058e' class='xr-var-attrs-in' type='checkbox' ><label for='attrs-2645d33e-c292-44d1-b41a-c708c063058e' title='Show/Hide attributes'><svg class='icon xr-icon-file-text2'><use xlink:href='#icon-file-text2'></use></svg></label><input id='data-d2e1dba1-2239-4e75-9963-8552ac9591fd' class='xr-var-data-in' type='checkbox'><label for='data-d2e1dba1-2239-4e75-9963-8552ac9591fd' title='Show/Hide data repr'><svg class='icon xr-icon-database'><use xlink:href='#icon-database'></use></svg></label><div class='xr-var-attrs'><dl class='xr-attrs'><dt><span>long_name :</span></dt><dd>time</dd><dt><span>cartesian_axis :</span></dt><dd>T</dd><dt><span>calendar_type :</span></dt><dd>NOLEAP</dd><dt><span>bounds :</span></dt><dd>time_bnds</dd><dt><span>_ChunkSizes :</span></dt><dd>512</dd></dl></div><div class='xr-var-data'><pre>array([cftime.DatetimeNoLeap(2003, 1, 16, 12, 0, 0, 0),\n",
       "       cftime.DatetimeNoLeap(2003, 2, 15, 0, 0, 0, 0),\n",
       "       cftime.DatetimeNoLeap(2003, 3, 16, 12, 0, 0, 0),\n",
       "       cftime.DatetimeNoLeap(2003, 4, 16, 0, 0, 0, 0),\n",
       "       cftime.DatetimeNoLeap(2003, 5, 16, 12, 0, 0, 0),\n",
       "       cftime.DatetimeNoLeap(2003, 6, 16, 0, 0, 0, 0),\n",
       "       cftime.DatetimeNoLeap(2003, 7, 16, 12, 0, 0, 0),\n",
       "       cftime.DatetimeNoLeap(2003, 8, 16, 12, 0, 0, 0),\n",
       "       cftime.DatetimeNoLeap(2003, 9, 16, 0, 0, 0, 0),\n",
       "       cftime.DatetimeNoLeap(2003, 10, 16, 12, 0, 0, 0),\n",
       "       cftime.DatetimeNoLeap(2003, 11, 16, 0, 0, 0, 0),\n",
       "       cftime.DatetimeNoLeap(2003, 12, 16, 12, 0, 0, 0),\n",
       "       cftime.DatetimeNoLeap(2004, 1, 16, 12, 0, 0, 0),\n",
       "       cftime.DatetimeNoLeap(2004, 2, 15, 0, 0, 0, 0),\n",
       "       cftime.DatetimeNoLeap(2004, 3, 16, 12, 0, 0, 0),\n",
       "       cftime.DatetimeNoLeap(2004, 4, 16, 0, 0, 0, 0),\n",
       "       cftime.DatetimeNoLeap(2004, 5, 16, 12, 0, 0, 0),\n",
       "       cftime.DatetimeNoLeap(2004, 6, 16, 0, 0, 0, 0),\n",
       "       cftime.DatetimeNoLeap(2004, 7, 16, 12, 0, 0, 0),\n",
       "       cftime.DatetimeNoLeap(2004, 8, 16, 12, 0, 0, 0),\n",
       "       cftime.DatetimeNoLeap(2004, 9, 16, 0, 0, 0, 0),\n",
       "       cftime.DatetimeNoLeap(2004, 10, 16, 12, 0, 0, 0),\n",
       "       cftime.DatetimeNoLeap(2004, 11, 16, 0, 0, 0, 0),\n",
       "       cftime.DatetimeNoLeap(2004, 12, 16, 12, 0, 0, 0),\n",
       "       cftime.DatetimeNoLeap(2005, 1, 16, 12, 0, 0, 0),\n",
       "       cftime.DatetimeNoLeap(2005, 2, 15, 0, 0, 0, 0),\n",
       "       cftime.DatetimeNoLeap(2005, 3, 16, 12, 0, 0, 0),\n",
       "       cftime.DatetimeNoLeap(2005, 4, 16, 0, 0, 0, 0),\n",
       "       cftime.DatetimeNoLeap(2005, 5, 16, 12, 0, 0, 0),\n",
       "       cftime.DatetimeNoLeap(2005, 6, 16, 0, 0, 0, 0),\n",
       "       cftime.DatetimeNoLeap(2005, 7, 16, 12, 0, 0, 0),\n",
       "       cftime.DatetimeNoLeap(2005, 8, 16, 12, 0, 0, 0),\n",
       "       cftime.DatetimeNoLeap(2005, 9, 16, 0, 0, 0, 0),\n",
       "       cftime.DatetimeNoLeap(2005, 10, 16, 12, 0, 0, 0),\n",
       "       cftime.DatetimeNoLeap(2005, 11, 16, 0, 0, 0, 0),\n",
       "       cftime.DatetimeNoLeap(2005, 12, 16, 12, 0, 0, 0),\n",
       "       cftime.DatetimeNoLeap(2006, 1, 16, 12, 0, 0, 0),\n",
       "       cftime.DatetimeNoLeap(2006, 2, 15, 0, 0, 0, 0),\n",
       "       cftime.DatetimeNoLeap(2006, 3, 16, 12, 0, 0, 0),\n",
       "       cftime.DatetimeNoLeap(2006, 4, 16, 0, 0, 0, 0),\n",
       "       cftime.DatetimeNoLeap(2006, 5, 16, 12, 0, 0, 0),\n",
       "       cftime.DatetimeNoLeap(2006, 6, 16, 0, 0, 0, 0),\n",
       "       cftime.DatetimeNoLeap(2006, 7, 16, 12, 0, 0, 0),\n",
       "       cftime.DatetimeNoLeap(2006, 8, 16, 12, 0, 0, 0),\n",
       "       cftime.DatetimeNoLeap(2006, 9, 16, 0, 0, 0, 0),\n",
       "       cftime.DatetimeNoLeap(2006, 10, 16, 12, 0, 0, 0),\n",
       "       cftime.DatetimeNoLeap(2006, 11, 16, 0, 0, 0, 0),\n",
       "       cftime.DatetimeNoLeap(2006, 12, 16, 12, 0, 0, 0),\n",
       "       cftime.DatetimeNoLeap(2007, 1, 16, 12, 0, 0, 0),\n",
       "       cftime.DatetimeNoLeap(2007, 2, 15, 0, 0, 0, 0),\n",
       "       cftime.DatetimeNoLeap(2007, 3, 16, 12, 0, 0, 0),\n",
       "       cftime.DatetimeNoLeap(2007, 4, 16, 0, 0, 0, 0),\n",
       "       cftime.DatetimeNoLeap(2007, 5, 16, 12, 0, 0, 0),\n",
       "       cftime.DatetimeNoLeap(2007, 6, 16, 0, 0, 0, 0),\n",
       "       cftime.DatetimeNoLeap(2007, 7, 16, 12, 0, 0, 0),\n",
       "       cftime.DatetimeNoLeap(2007, 8, 16, 12, 0, 0, 0),\n",
       "       cftime.DatetimeNoLeap(2007, 9, 16, 0, 0, 0, 0),\n",
       "       cftime.DatetimeNoLeap(2007, 10, 16, 12, 0, 0, 0),\n",
       "       cftime.DatetimeNoLeap(2007, 11, 16, 0, 0, 0, 0),\n",
       "       cftime.DatetimeNoLeap(2007, 12, 16, 12, 0, 0, 0)], dtype=object)</pre></div></li></ul></div></li><li class='xr-section-item'><input id='section-7116b054-ac1b-4182-bcbc-12729655b023' class='xr-section-summary-in' type='checkbox' disabled ><label for='section-7116b054-ac1b-4182-bcbc-12729655b023' class='xr-section-summary'  title='Expand/collapse section'>Attributes: <span>(0)</span></label><div class='xr-section-inline-details'></div><div class='xr-section-details'><dl class='xr-attrs'></dl></div></li></ul></div></div>"
      ],
      "text/plain": [
       "<xarray.DataArray 'psi' (time: 60, z_i: 36, yq: 576)>\n",
       "dask.array<truediv, shape=(60, 36, 576), dtype=float32, chunksize=(1, 36, 576), chunktype=numpy.ndarray>\n",
       "Coordinates:\n",
       "  * yq       (yq) float64 -77.82 -77.63 -77.45 -77.26 ... 89.37 89.58 89.79 90.0\n",
       "  * z_i      (z_i) float64 0.0 5.0 15.0 25.0 ... 5.75e+03 6.25e+03 6.75e+03\n",
       "  * time     (time) object 2003-01-16 12:00:00 ... 2007-12-16 12:00:00"
      ]
     },
     "execution_count": 8,
     "metadata": {},
     "output_type": "execute_result"
    }
   ],
   "source": [
    "moc"
   ]
  },
  {
   "cell_type": "code",
   "execution_count": 9,
   "metadata": {},
   "outputs": [
    {
     "data": {
      "text/plain": [
       "<matplotlib.collections.QuadMesh at 0x2ad48499b3a0>"
      ]
     },
     "execution_count": 9,
     "metadata": {},
     "output_type": "execute_result"
    },
    {
     "data": {
      "image/png": "[encoded data removed]",
      "text/plain": [
       "<Figure size 432x288 with 2 Axes>"
      ]
     },
     "metadata": {
      "needs_background": "light"
     },
     "output_type": "display_data"
    }
   ],
   "source": [
    "moc.sel(time='2003-01').plot(vmin=-50,vmax=50, yincrease=False, cmap='bwr')"
   ]
  },
  {
   "cell_type": "markdown",
   "metadata": {},
   "source": [
    "## MOC and Basins"
   ]
  },
  {
   "cell_type": "markdown",
   "metadata": {},
   "source": [
    "xoverturning can compute the MOC over a specified basin. Default is `basin='global'`, but pre-defined available options are `basin='atl-arc'` and `basin='indopac'`. If the grid file contain a basin DataArray produced by [cmip_basins](https://github.com/jkrasting/cmip_basins), it will use it in combination with predefined basin codes to create the basin mask. If the array does not exist, xoverturning will generate it on-the-fly using cmip_basin code. It is also possible to use an arbitrary list of basin codes as argument to `basin`, which could be particularly handy if you have custom build basin codes."
   ]
  },
  {
   "cell_type": "code",
   "execution_count": 11,
   "metadata": {},
   "outputs": [
    {
     "name": "stdout",
     "output_type": "stream",
     "text": [
      "generating basin codes\n"
     ]
    }
   ],
   "source": [
    "# atlantic\n",
    "amoc = calcmoc(ds, dsgrid=dsgrid, basin='atl-arc')"
   ]
  },
  {
   "cell_type": "code",
   "execution_count": 12,
   "metadata": {},
   "outputs": [
    {
     "data": {
      "text/plain": [
       "<matplotlib.collections.QuadMesh at 0x2ad484d80ac0>"
      ]
     },
     "execution_count": 12,
     "metadata": {},
     "output_type": "execute_result"
    },
    {
     "data": {
      "image/png": "[encoded data removed]",
      "text/plain": [
       "<Figure size 432x288 with 2 Axes>"
      ]
     },
     "metadata": {
      "needs_background": "light"
     },
     "output_type": "display_data"
    }
   ],
   "source": [
    "amoc.sel(time='2003-01').plot(vmin=-30,vmax=30, yincrease=False, cmap='bwr')"
   ]
  },
  {
   "cell_type": "code",
   "execution_count": 13,
   "metadata": {},
   "outputs": [
    {
     "name": "stdout",
     "output_type": "stream",
     "text": [
      "generating basin codes\n"
     ]
    }
   ],
   "source": [
    "# indopacific\n",
    "pmoc = calcmoc(ds, dsgrid=dsgrid, basin='indopac')"
   ]
  },
  {
   "cell_type": "code",
   "execution_count": 14,
   "metadata": {},
   "outputs": [
    {
     "data": {
      "text/plain": [
       "<matplotlib.collections.QuadMesh at 0x2ad4851f9fd0>"
      ]
     },
     "execution_count": 14,
     "metadata": {},
     "output_type": "execute_result"
    },
    {
     "data": {
      "image/png": "[encoded data removed]",
      "text/plain": [
       "<Figure size 432x288 with 2 Axes>"
      ]
     },
     "metadata": {
      "needs_background": "light"
     },
     "output_type": "display_data"
    }
   ],
   "source": [
    "pmoc.sel(time='2003-01').plot(vmin=-50,vmax=50, yincrease=False, cmap='bwr')"
   ]
  },
  {
   "cell_type": "markdown",
   "metadata": {},
   "source": [
    "## Masking (only in geopotential coordinates)"
   ]
  },
  {
   "cell_type": "markdown",
   "metadata": {},
   "source": [
    "You can also mask out the ocean floor to make it more plot-friendly with `mask_output`."
   ]
  },
  {
   "cell_type": "code",
   "execution_count": 15,
   "metadata": {},
   "outputs": [
    {
     "name": "stdout",
     "output_type": "stream",
     "text": [
      "generating basin codes\n"
     ]
    },
    {
     "data": {
      "text/plain": [
       "<matplotlib.collections.QuadMesh at 0x2ad484dde040>"
      ]
     },
     "execution_count": 15,
     "metadata": {},
     "output_type": "execute_result"
    },
    {
     "data": {
      "image/png": "[encoded data removed]",
      "text/plain": [
       "<Figure size 432x288 with 2 Axes>"
      ]
     },
     "metadata": {
      "needs_background": "light"
     },
     "output_type": "display_data"
    }
   ],
   "source": [
    "amoc = calcmoc(ds, dsgrid=dsgrid, basin='atl-arc', mask_output=True)\n",
    "amoc.sel(time='2003-01').plot(vmin=-30,vmax=30, yincrease=False, cmap='bwr', \n",
    "                              subplot_kws={'facecolor': 'grey'})"
   ]
  },
  {
   "cell_type": "markdown",
   "metadata": {},
   "source": [
    "## Density coordinates"
   ]
  },
  {
   "cell_type": "markdown",
   "metadata": {},
   "source": [
    "Because xoverturning is written in a non-specific vertical coordinate system, it can also compute the MOC in other coordinates system, such as the `rho2` output by using the `vertical='rho2'` option."
   ]
  },
  {
   "cell_type": "code",
   "execution_count": 16,
   "metadata": {},
   "outputs": [],
   "source": [
    "pproot = '/archive/Raphael.Dussin/FMS2019.01.03_devgfdl_20201120/'\n",
    "run = 'CM4_piControl_c96_OM4p25_half_kdadd'\n",
    "ppdir = f'{pproot}/{run}/gfdl.ncrc4-intel18-prod-openmp/pp/ocean_annual_rho2'\n",
    "\n",
    "ds_rho2 = xr.open_mfdataset([f\"{ppdir}/ts/annual/10yr/ocean_annual_rho2.0021-0030.umo.nc\",\n",
    "                        f\"{ppdir}/ts/annual/10yr/ocean_annual_rho2.0021-0030.vmo.nc\"])\n",
    "\n",
    "dsgrid_rho2 = xr.open_dataset(f\"{ppdir}/ocean_annual_rho2.static.nc\")"
   ]
  },
  {
   "cell_type": "code",
   "execution_count": 17,
   "metadata": {},
   "outputs": [
    {
     "name": "stdout",
     "output_type": "stream",
     "text": [
      "generating basin codes\n"
     ]
    }
   ],
   "source": [
    "amoc_rho2 = calcmoc(ds_rho2, dsgrid=dsgrid_rho2, vertical='rho2', basin='atl-arc')"
   ]
  },
  {
   "cell_type": "code",
   "execution_count": 18,
   "metadata": {},
   "outputs": [
    {
     "data": {
      "text/html": [
       "<div><svg style=\"position: absolute; width: 0; height: 0; overflow: hidden\">\n",
       "<defs>\n",
       "<symbol id=\"icon-database\" viewBox=\"0 0 32 32\">\n",
       "<path d=\"M16 0c-8.837 0-16 2.239-16 5v4c0 2.761 7.163 5 16 5s16-2.239 16-5v-4c0-2.761-7.163-5-16-5z\"></path>\n",
       "<path d=\"M16 17c-8.837 0-16-2.239-16-5v6c0 2.761 7.163 5 16 5s16-2.239 16-5v-6c0 2.761-7.163 5-16 5z\"></path>\n",
       "<path d=\"M16 26c-8.837 0-16-2.239-16-5v6c0 2.761 7.163 5 16 5s16-2.239 16-5v-6c0 2.761-7.163 5-16 5z\"></path>\n",
       "</symbol>\n",
       "<symbol id=\"icon-file-text2\" viewBox=\"0 0 32 32\">\n",
       "<path d=\"M28.681 7.159c-0.694-0.947-1.662-2.053-2.724-3.116s-2.169-2.030-3.116-2.724c-1.612-1.182-2.393-1.319-2.841-1.319h-15.5c-1.378 0-2.5 1.121-2.5 2.5v27c0 1.378 1.122 2.5 2.5 2.5h23c1.378 0 2.5-1.122 2.5-2.5v-19.5c0-0.448-0.137-1.23-1.319-2.841zM24.543 5.457c0.959 0.959 1.712 1.825 2.268 2.543h-4.811v-4.811c0.718 0.556 1.584 1.309 2.543 2.268zM28 29.5c0 0.271-0.229 0.5-0.5 0.5h-23c-0.271 0-0.5-0.229-0.5-0.5v-27c0-0.271 0.229-0.5 0.5-0.5 0 0 15.499-0 15.5 0v7c0 0.552 0.448 1 1 1h7v19.5z\"></path>\n",
       "<path d=\"M23 26h-14c-0.552 0-1-0.448-1-1s0.448-1 1-1h14c0.552 0 1 0.448 1 1s-0.448 1-1 1z\"></path>\n",
       "<path d=\"M23 22h-14c-0.552 0-1-0.448-1-1s0.448-1 1-1h14c0.552 0 1 0.448 1 1s-0.448 1-1 1z\"></path>\n",
       "<path d=\"M23 18h-14c-0.552 0-1-0.448-1-1s0.448-1 1-1h14c0.552 0 1 0.448 1 1s-0.448 1-1 1z\"></path>\n",
       "</symbol>\n",
       "</defs>\n",
       "</svg>\n",
       "<style>/* CSS stylesheet for displaying xarray objects in jupyterlab.\n",
       " *\n",
       " */\n",
       "\n",
       ":root {\n",
       "  --xr-font-color0: var(--jp-content-font-color0, rgba(0, 0, 0, 1));\n",
       "  --xr-font-color2: var(--jp-content-font-color2, rgba(0, 0, 0, 0.54));\n",
       "  --xr-font-color3: var(--jp-content-font-color3, rgba(0, 0, 0, 0.38));\n",
       "  --xr-border-color: var(--jp-border-color2, #e0e0e0);\n",
       "  --xr-disabled-color: var(--jp-layout-color3, #bdbdbd);\n",
       "  --xr-background-color: var(--jp-layout-color0, white);\n",
       "  --xr-background-color-row-even: var(--jp-layout-color1, white);\n",
       "  --xr-background-color-row-odd: var(--jp-layout-color2, #eeeeee);\n",
       "}\n",
       "\n",
       "html[theme=dark],\n",
       "body.vscode-dark {\n",
       "  --xr-font-color0: rgba(255, 255, 255, 1);\n",
       "  --xr-font-color2: rgba(255, 255, 255, 0.54);\n",
       "  --xr-font-color3: rgba(255, 255, 255, 0.38);\n",
       "  --xr-border-color: #1F1F1F;\n",
       "  --xr-disabled-color: #515151;\n",
       "  --xr-background-color: #111111;\n",
       "  --xr-background-color-row-even: #111111;\n",
       "  --xr-background-color-row-odd: #313131;\n",
       "}\n",
       "\n",
       ".xr-wrap {\n",
       "  display: block;\n",
       "  min-width: 300px;\n",
       "  max-width: 700px;\n",
       "}\n",
       "\n",
       ".xr-text-repr-fallback {\n",
       "  /* fallback to plain text repr when CSS is not injected (untrusted notebook) */\n",
       "  display: none;\n",
       "}\n",
       "\n",
       ".xr-header {\n",
       "  padding-top: 6px;\n",
       "  padding-bottom: 6px;\n",
       "  margin-bottom: 4px;\n",
       "  border-bottom: solid 1px var(--xr-border-color);\n",
       "}\n",
       "\n",
       ".xr-header > div,\n",
       ".xr-header > ul {\n",
       "  display: inline;\n",
       "  margin-top: 0;\n",
       "  margin-bottom: 0;\n",
       "}\n",
       "\n",
       ".xr-obj-type,\n",
       ".xr-array-name {\n",
       "  margin-left: 2px;\n",
       "  margin-right: 10px;\n",
       "}\n",
       "\n",
       ".xr-obj-type {\n",
       "  color: var(--xr-font-color2);\n",
       "}\n",
       "\n",
       ".xr-sections {\n",
       "  padding-left: 0 !important;\n",
       "  display: grid;\n",
       "  grid-template-columns: 150px auto auto 1fr 20px 20px;\n",
       "}\n",
       "\n",
       ".xr-section-item {\n",
       "  display: contents;\n",
       "}\n",
       "\n",
       ".xr-section-item input {\n",
       "  display: none;\n",
       "}\n",
       "\n",
       ".xr-section-item input + label {\n",
       "  color: var(--xr-disabled-color);\n",
       "}\n",
       "\n",
       ".xr-section-item input:enabled + label {\n",
       "  cursor: pointer;\n",
       "  color: var(--xr-font-color2);\n",
       "}\n",
       "\n",
       ".xr-section-item input:enabled + label:hover {\n",
       "  color: var(--xr-font-color0);\n",
       "}\n",
       "\n",
       ".xr-section-summary {\n",
       "  grid-column: 1;\n",
       "  color: var(--xr-font-color2);\n",
       "  font-weight: 500;\n",
       "}\n",
       "\n",
       ".xr-section-summary > span {\n",
       "  display: inline-block;\n",
       "  padding-left: 0.5em;\n",
       "}\n",
       "\n",
       ".xr-section-summary-in:disabled + label {\n",
       "  color: var(--xr-font-color2);\n",
       "}\n",
       "\n",
       ".xr-section-summary-in + label:before {\n",
       "  display: inline-block;\n",
       "  content: '►';\n",
       "  font-size: 11px;\n",
       "  width: 15px;\n",
       "  text-align: center;\n",
       "}\n",
       "\n",
       ".xr-section-summary-in:disabled + label:before {\n",
       "  color: var(--xr-disabled-color);\n",
       "}\n",
       "\n",
       ".xr-section-summary-in:checked + label:before {\n",
       "  content: '▼';\n",
       "}\n",
       "\n",
       ".xr-section-summary-in:checked + label > span {\n",
       "  display: none;\n",
       "}\n",
       "\n",
       ".xr-section-summary,\n",
       ".xr-section-inline-details {\n",
       "  padding-top: 4px;\n",
       "  padding-bottom: 4px;\n",
       "}\n",
       "\n",
       ".xr-section-inline-details {\n",
       "  grid-column: 2 / -1;\n",
       "}\n",
       "\n",
       ".xr-section-details {\n",
       "  display: none;\n",
       "  grid-column: 1 / -1;\n",
       "  margin-bottom: 5px;\n",
       "}\n",
       "\n",
       ".xr-section-summary-in:checked ~ .xr-section-details {\n",
       "  display: contents;\n",
       "}\n",
       "\n",
       ".xr-array-wrap {\n",
       "  grid-column: 1 / -1;\n",
       "  display: grid;\n",
       "  grid-template-columns: 20px auto;\n",
       "}\n",
       "\n",
       ".xr-array-wrap > label {\n",
       "  grid-column: 1;\n",
       "  vertical-align: top;\n",
       "}\n",
       "\n",
       ".xr-preview {\n",
       "  color: var(--xr-font-color3);\n",
       "}\n",
       "\n",
       ".xr-array-preview,\n",
       ".xr-array-data {\n",
       "  padding: 0 5px !important;\n",
       "  grid-column: 2;\n",
       "}\n",
       "\n",
       ".xr-array-data,\n",
       ".xr-array-in:checked ~ .xr-array-preview {\n",
       "  display: none;\n",
       "}\n",
       "\n",
       ".xr-array-in:checked ~ .xr-array-data,\n",
       ".xr-array-preview {\n",
       "  display: inline-block;\n",
       "}\n",
       "\n",
       ".xr-dim-list {\n",
       "  display: inline-block !important;\n",
       "  list-style: none;\n",
       "  padding: 0 !important;\n",
       "  margin: 0;\n",
       "}\n",
       "\n",
       ".xr-dim-list li {\n",
       "  display: inline-block;\n",
       "  padding: 0;\n",
       "  margin: 0;\n",
       "}\n",
       "\n",
       ".xr-dim-list:before {\n",
       "  content: '(';\n",
       "}\n",
       "\n",
       ".xr-dim-list:after {\n",
       "  content: ')';\n",
       "}\n",
       "\n",
       ".xr-dim-list li:not(:last-child):after {\n",
       "  content: ',';\n",
       "  padding-right: 5px;\n",
       "}\n",
       "\n",
       ".xr-has-index {\n",
       "  font-weight: bold;\n",
       "}\n",
       "\n",
       ".xr-var-list,\n",
       ".xr-var-item {\n",
       "  display: contents;\n",
       "}\n",
       "\n",
       ".xr-var-item > div,\n",
       ".xr-var-item label,\n",
       ".xr-var-item > .xr-var-name span {\n",
       "  background-color: var(--xr-background-color-row-even);\n",
       "  margin-bottom: 0;\n",
       "}\n",
       "\n",
       ".xr-var-item > .xr-var-name:hover span {\n",
       "  padding-right: 5px;\n",
       "}\n",
       "\n",
       ".xr-var-list > li:nth-child(odd) > div,\n",
       ".xr-var-list > li:nth-child(odd) > label,\n",
       ".xr-var-list > li:nth-child(odd) > .xr-var-name span {\n",
       "  background-color: var(--xr-background-color-row-odd);\n",
       "}\n",
       "\n",
       ".xr-var-name {\n",
       "  grid-column: 1;\n",
       "}\n",
       "\n",
       ".xr-var-dims {\n",
       "  grid-column: 2;\n",
       "}\n",
       "\n",
       ".xr-var-dtype {\n",
       "  grid-column: 3;\n",
       "  text-align: right;\n",
       "  color: var(--xr-font-color2);\n",
       "}\n",
       "\n",
       ".xr-var-preview {\n",
       "  grid-column: 4;\n",
       "}\n",
       "\n",
       ".xr-var-name,\n",
       ".xr-var-dims,\n",
       ".xr-var-dtype,\n",
       ".xr-preview,\n",
       ".xr-attrs dt {\n",
       "  white-space: nowrap;\n",
       "  overflow: hidden;\n",
       "  text-overflow: ellipsis;\n",
       "  padding-right: 10px;\n",
       "}\n",
       "\n",
       ".xr-var-name:hover,\n",
       ".xr-var-dims:hover,\n",
       ".xr-var-dtype:hover,\n",
       ".xr-attrs dt:hover {\n",
       "  overflow: visible;\n",
       "  width: auto;\n",
       "  z-index: 1;\n",
       "}\n",
       "\n",
       ".xr-var-attrs,\n",
       ".xr-var-data {\n",
       "  display: none;\n",
       "  background-color: var(--xr-background-color) !important;\n",
       "  padding-bottom: 5px !important;\n",
       "}\n",
       "\n",
       ".xr-var-attrs-in:checked ~ .xr-var-attrs,\n",
       ".xr-var-data-in:checked ~ .xr-var-data {\n",
       "  display: block;\n",
       "}\n",
       "\n",
       ".xr-var-data > table {\n",
       "  float: right;\n",
       "}\n",
       "\n",
       ".xr-var-name span,\n",
       ".xr-var-data,\n",
       ".xr-attrs {\n",
       "  padding-left: 25px !important;\n",
       "}\n",
       "\n",
       ".xr-attrs,\n",
       ".xr-var-attrs,\n",
       ".xr-var-data {\n",
       "  grid-column: 1 / -1;\n",
       "}\n",
       "\n",
       "dl.xr-attrs {\n",
       "  padding: 0;\n",
       "  margin: 0;\n",
       "  display: grid;\n",
       "  grid-template-columns: 125px auto;\n",
       "}\n",
       "\n",
       ".xr-attrs dt,\n",
       ".xr-attrs dd {\n",
       "  padding: 0;\n",
       "  margin: 0;\n",
       "  float: left;\n",
       "  padding-right: 10px;\n",
       "  width: auto;\n",
       "}\n",
       "\n",
       ".xr-attrs dt {\n",
       "  font-weight: normal;\n",
       "  grid-column: 1;\n",
       "}\n",
       "\n",
       ".xr-attrs dt:hover span {\n",
       "  display: inline-block;\n",
       "  background: var(--xr-background-color);\n",
       "  padding-right: 10px;\n",
       "}\n",
       "\n",
       ".xr-attrs dd {\n",
       "  grid-column: 2;\n",
       "  white-space: pre-wrap;\n",
       "  word-break: break-all;\n",
       "}\n",
       "\n",
       ".xr-icon-database,\n",
       ".xr-icon-file-text2 {\n",
       "  display: inline-block;\n",
       "  vertical-align: middle;\n",
       "  width: 1em;\n",
       "  height: 1.5em !important;\n",
       "  stroke-width: 0;\n",
       "  stroke: currentColor;\n",
       "  fill: currentColor;\n",
       "}\n",
       "</style><pre class='xr-text-repr-fallback'>&lt;xarray.DataArray &#x27;psi&#x27; (time: 10, rho2_i: 36, yq: 1081)&gt;\n",
       "dask.array&lt;truediv, shape=(10, 36, 1081), dtype=float32, chunksize=(10, 36, 1081), chunktype=numpy.ndarray&gt;\n",
       "Coordinates:\n",
       "  * rho2_i   (rho2_i) float64 999.5 1.028e+03 1.029e+03 ... 1.037e+03 1.038e+03\n",
       "  * time     (time) object 0021-07-02 12:00:00 ... 0030-07-02 12:00:00\n",
       "  * yq       (yq) float64 -80.43 -80.35 -80.27 -80.19 ... 89.68 89.78 89.89 90.0</pre><div class='xr-wrap' hidden><div class='xr-header'><div class='xr-obj-type'>xarray.DataArray</div><div class='xr-array-name'>'psi'</div><ul class='xr-dim-list'><li><span class='xr-has-index'>time</span>: 10</li><li><span class='xr-has-index'>rho2_i</span>: 36</li><li><span class='xr-has-index'>yq</span>: 1081</li></ul></div><ul class='xr-sections'><li class='xr-section-item'><div class='xr-array-wrap'><input id='section-0bb32029-6f84-45de-9d62-c88ebf7897bb' class='xr-array-in' type='checkbox' checked><label for='section-0bb32029-6f84-45de-9d62-c88ebf7897bb' title='Show/hide data repr'><svg class='icon xr-icon-database'><use xlink:href='#icon-database'></use></svg></label><div class='xr-array-preview xr-preview'><span>dask.array&lt;chunksize=(10, 36, 1081), meta=np.ndarray&gt;</span></div><div class='xr-array-data'><table>\n",
       "<tr>\n",
       "<td>\n",
       "<table>\n",
       "  <thead>\n",
       "    <tr><td> </td><th> Array </th><th> Chunk </th></tr>\n",
       "  </thead>\n",
       "  <tbody>\n",
       "    <tr><th> Bytes </th><td> 1.56 MB </td> <td> 1.56 MB </td></tr>\n",
       "    <tr><th> Shape </th><td> (10, 36, 1081) </td> <td> (10, 36, 1081) </td></tr>\n",
       "    <tr><th> Count </th><td> 26 Tasks </td><td> 1 Chunks </td></tr>\n",
       "    <tr><th> Type </th><td> float32 </td><td> numpy.ndarray </td></tr>\n",
       "  </tbody>\n",
       "</table>\n",
       "</td>\n",
       "<td>\n",
       "<svg width=\"194\" height=\"96\" style=\"stroke:rgb(0,0,0);stroke-width:1\" >\n",
       "\n",
       "  <!-- Horizontal lines -->\n",
       "  <line x1=\"10\" y1=\"0\" x2=\"24\" y2=\"14\" style=\"stroke-width:2\" />\n",
       "  <line x1=\"10\" y1=\"32\" x2=\"24\" y2=\"46\" style=\"stroke-width:2\" />\n",
       "\n",
       "  <!-- Vertical lines -->\n",
       "  <line x1=\"10\" y1=\"0\" x2=\"10\" y2=\"32\" style=\"stroke-width:2\" />\n",
       "  <line x1=\"24\" y1=\"14\" x2=\"24\" y2=\"46\" style=\"stroke-width:2\" />\n",
       "\n",
       "  <!-- Colored Rectangle -->\n",
       "  <polygon points=\"10.000000,0.000000 24.948598,14.948598 24.948598,46.967354 10.000000,32.018756\" style=\"fill:#ECB172A0;stroke-width:0\"/>\n",
       "\n",
       "  <!-- Horizontal lines -->\n",
       "  <line x1=\"10\" y1=\"0\" x2=\"130\" y2=\"0\" style=\"stroke-width:2\" />\n",
       "  <line x1=\"24\" y1=\"14\" x2=\"144\" y2=\"14\" style=\"stroke-width:2\" />\n",
       "\n",
       "  <!-- Vertical lines -->\n",
       "  <line x1=\"10\" y1=\"0\" x2=\"24\" y2=\"14\" style=\"stroke-width:2\" />\n",
       "  <line x1=\"130\" y1=\"0\" x2=\"144\" y2=\"14\" style=\"stroke-width:2\" />\n",
       "\n",
       "  <!-- Colored Rectangle -->\n",
       "  <polygon points=\"10.000000,0.000000 130.000000,0.000000 144.948598,14.948598 24.948598,14.948598\" style=\"fill:#ECB172A0;stroke-width:0\"/>\n",
       "\n",
       "  <!-- Horizontal lines -->\n",
       "  <line x1=\"24\" y1=\"14\" x2=\"144\" y2=\"14\" style=\"stroke-width:2\" />\n",
       "  <line x1=\"24\" y1=\"46\" x2=\"144\" y2=\"46\" style=\"stroke-width:2\" />\n",
       "\n",
       "  <!-- Vertical lines -->\n",
       "  <line x1=\"24\" y1=\"14\" x2=\"24\" y2=\"46\" style=\"stroke-width:2\" />\n",
       "  <line x1=\"144\" y1=\"14\" x2=\"144\" y2=\"46\" style=\"stroke-width:2\" />\n",
       "\n",
       "  <!-- Colored Rectangle -->\n",
       "  <polygon points=\"24.948598,14.948598 144.948598,14.948598 144.948598,46.967354 24.948598,46.967354\" style=\"fill:#ECB172A0;stroke-width:0\"/>\n",
       "\n",
       "  <!-- Text -->\n",
       "  <text x=\"84.948598\" y=\"66.967354\" font-size=\"1.0rem\" font-weight=\"100\" text-anchor=\"middle\" >1081</text>\n",
       "  <text x=\"164.948598\" y=\"30.957976\" font-size=\"1.0rem\" font-weight=\"100\" text-anchor=\"middle\" transform=\"rotate(0,164.948598,30.957976)\">36</text>\n",
       "  <text x=\"7.474299\" y=\"59.493055\" font-size=\"1.0rem\" font-weight=\"100\" text-anchor=\"middle\" transform=\"rotate(45,7.474299,59.493055)\">10</text>\n",
       "</svg>\n",
       "</td>\n",
       "</tr>\n",
       "</table></div></div></li><li class='xr-section-item'><input id='section-abafdb9b-4d29-489c-a0ec-ec70ac42b385' class='xr-section-summary-in' type='checkbox'  checked><label for='section-abafdb9b-4d29-489c-a0ec-ec70ac42b385' class='xr-section-summary' >Coordinates: <span>(3)</span></label><div class='xr-section-inline-details'></div><div class='xr-section-details'><ul class='xr-var-list'><li class='xr-var-item'><div class='xr-var-name'><span class='xr-has-index'>rho2_i</span></div><div class='xr-var-dims'>(rho2_i)</div><div class='xr-var-dtype'>float64</div><div class='xr-var-preview xr-preview'>999.5 1.028e+03 ... 1.038e+03</div><input id='attrs-f32956b4-90ed-4a4a-99f6-fb018baf06de' class='xr-var-attrs-in' type='checkbox' ><label for='attrs-f32956b4-90ed-4a4a-99f6-fb018baf06de' title='Show/Hide attributes'><svg class='icon xr-icon-file-text2'><use xlink:href='#icon-file-text2'></use></svg></label><input id='data-1a219ff1-08d2-41ea-9f24-9f888df8eece' class='xr-var-data-in' type='checkbox'><label for='data-1a219ff1-08d2-41ea-9f24-9f888df8eece' title='Show/Hide data repr'><svg class='icon xr-icon-database'><use xlink:href='#icon-database'></use></svg></label><div class='xr-var-attrs'><dl class='xr-attrs'><dt><span>long_name :</span></dt><dd>Target Potential Density at interface</dd><dt><span>units :</span></dt><dd>kg m-3</dd><dt><span>axis :</span></dt><dd>Z</dd><dt><span>positive :</span></dt><dd>down</dd></dl></div><div class='xr-var-data'><pre>array([ 999.5     , 1028.      , 1029.      , 1029.484375, 1029.953125,\n",
       "       1030.40625 , 1030.84375 , 1031.265625, 1031.671875, 1032.0625  ,\n",
       "       1032.4375  , 1032.796875, 1033.140625, 1033.46875 , 1033.78125 ,\n",
       "       1034.078125, 1034.359375, 1034.625   , 1034.875   , 1035.109375,\n",
       "       1035.328125, 1035.53125 , 1035.71875 , 1035.890625, 1036.046875,\n",
       "       1036.1875  , 1036.3125  , 1036.4375  , 1036.5625  , 1036.6875  ,\n",
       "       1036.8125  , 1036.9375  , 1037.0625  , 1037.1875  , 1037.3125  ,\n",
       "       1038.      ])</pre></div></li><li class='xr-var-item'><div class='xr-var-name'><span class='xr-has-index'>time</span></div><div class='xr-var-dims'>(time)</div><div class='xr-var-dtype'>object</div><div class='xr-var-preview xr-preview'>0021-07-02 12:00:00 ... 0030-07-...</div><input id='attrs-b41a52be-3264-4297-85e1-0eb87d0ddc9f' class='xr-var-attrs-in' type='checkbox' ><label for='attrs-b41a52be-3264-4297-85e1-0eb87d0ddc9f' title='Show/Hide attributes'><svg class='icon xr-icon-file-text2'><use xlink:href='#icon-file-text2'></use></svg></label><input id='data-15cb0f4c-545d-43d3-886b-08bd40a7070e' class='xr-var-data-in' type='checkbox'><label for='data-15cb0f4c-545d-43d3-886b-08bd40a7070e' title='Show/Hide data repr'><svg class='icon xr-icon-database'><use xlink:href='#icon-database'></use></svg></label><div class='xr-var-attrs'><dl class='xr-attrs'><dt><span>long_name :</span></dt><dd>time</dd><dt><span>axis :</span></dt><dd>T</dd><dt><span>calendar_type :</span></dt><dd>NOLEAP</dd><dt><span>bounds :</span></dt><dd>time_bnds</dd></dl></div><div class='xr-var-data'><pre>array([cftime.DatetimeNoLeap(21, 7, 2, 12, 0, 0, 0),\n",
       "       cftime.DatetimeNoLeap(22, 7, 2, 12, 0, 0, 0),\n",
       "       cftime.DatetimeNoLeap(23, 7, 2, 12, 0, 0, 0),\n",
       "       cftime.DatetimeNoLeap(24, 7, 2, 12, 0, 0, 0),\n",
       "       cftime.DatetimeNoLeap(25, 7, 2, 12, 0, 0, 0),\n",
       "       cftime.DatetimeNoLeap(26, 7, 2, 12, 0, 0, 0),\n",
       "       cftime.DatetimeNoLeap(27, 7, 2, 12, 0, 0, 0),\n",
       "       cftime.DatetimeNoLeap(28, 7, 2, 12, 0, 0, 0),\n",
       "       cftime.DatetimeNoLeap(29, 7, 2, 12, 0, 0, 0),\n",
       "       cftime.DatetimeNoLeap(30, 7, 2, 12, 0, 0, 0)], dtype=object)</pre></div></li><li class='xr-var-item'><div class='xr-var-name'><span class='xr-has-index'>yq</span></div><div class='xr-var-dims'>(yq)</div><div class='xr-var-dtype'>float64</div><div class='xr-var-preview xr-preview'>-80.43 -80.35 -80.27 ... 89.89 90.0</div><input id='attrs-1e1caf00-23c0-45b0-a470-e475d58e30fa' class='xr-var-attrs-in' type='checkbox' ><label for='attrs-1e1caf00-23c0-45b0-a470-e475d58e30fa' title='Show/Hide attributes'><svg class='icon xr-icon-file-text2'><use xlink:href='#icon-file-text2'></use></svg></label><input id='data-ae6f013d-ca71-4e7c-ba34-84d770c4e1f0' class='xr-var-data-in' type='checkbox'><label for='data-ae6f013d-ca71-4e7c-ba34-84d770c4e1f0' title='Show/Hide data repr'><svg class='icon xr-icon-database'><use xlink:href='#icon-database'></use></svg></label><div class='xr-var-attrs'><dl class='xr-attrs'><dt><span>long_name :</span></dt><dd>q point nominal latitude</dd><dt><span>units :</span></dt><dd>degrees_north</dd><dt><span>axis :</span></dt><dd>Y</dd></dl></div><div class='xr-var-data'><pre>array([-80.429819, -80.348657, -80.267493, ...,  89.783825,  89.891912,\n",
       "        90.      ])</pre></div></li></ul></div></li><li class='xr-section-item'><input id='section-703a91c1-fab8-4f1e-8061-1dd693895bb4' class='xr-section-summary-in' type='checkbox' disabled ><label for='section-703a91c1-fab8-4f1e-8061-1dd693895bb4' class='xr-section-summary'  title='Expand/collapse section'>Attributes: <span>(0)</span></label><div class='xr-section-inline-details'></div><div class='xr-section-details'><dl class='xr-attrs'></dl></div></li></ul></div></div>"
      ],
      "text/plain": [
       "<xarray.DataArray 'psi' (time: 10, rho2_i: 36, yq: 1081)>\n",
       "dask.array<truediv, shape=(10, 36, 1081), dtype=float32, chunksize=(10, 36, 1081), chunktype=numpy.ndarray>\n",
       "Coordinates:\n",
       "  * rho2_i   (rho2_i) float64 999.5 1.028e+03 1.029e+03 ... 1.037e+03 1.038e+03\n",
       "  * time     (time) object 0021-07-02 12:00:00 ... 0030-07-02 12:00:00\n",
       "  * yq       (yq) float64 -80.43 -80.35 -80.27 -80.19 ... 89.68 89.78 89.89 90.0"
      ]
     },
     "execution_count": 18,
     "metadata": {},
     "output_type": "execute_result"
    }
   ],
   "source": [
    "amoc_rho2"
   ]
  },
  {
   "cell_type": "code",
   "execution_count": 19,
   "metadata": {},
   "outputs": [
    {
     "data": {
      "text/plain": [
       "<matplotlib.collections.QuadMesh at 0x2ad484a5d430>"
      ]
     },
     "execution_count": 19,
     "metadata": {},
     "output_type": "execute_result"
    },
    {
     "data": {
      "image/png": "[encoded data removed]",
      "text/plain": [
       "<Figure size 432x288 with 2 Axes>"
      ]
     },
     "metadata": {
      "needs_background": "light"
     },
     "output_type": "display_data"
    }
   ],
   "source": [
    "amoc_rho2.sel(time='0022-07').plot(vmin=-30,vmax=30, yincrease=False, cmap='bwr')"
   ]
  },
  {
   "cell_type": "markdown",
   "metadata": {},
   "source": [
    "## Derived quantities"
   ]
  },
  {
   "cell_type": "markdown",
   "metadata": {},
   "source": [
    "Since the output of xoverturning is a xarray.DataArray, computing derived quantities is a breeze thanks to xarray built-in functions:"
   ]
  },
  {
   "cell_type": "code",
   "execution_count": 20,
   "metadata": {},
   "outputs": [],
   "source": [
    "maxmoc_atl = amoc.max(dim=['yq', 'z_i'])"
   ]
  },
  {
   "cell_type": "code",
   "execution_count": 21,
   "metadata": {},
   "outputs": [
    {
     "data": {
      "text/plain": [
       "[<matplotlib.lines.Line2D at 0x2ad4868e1ee0>]"
      ]
     },
     "execution_count": 21,
     "metadata": {},
     "output_type": "execute_result"
    },
    {
     "data": {
      "image/png": "[encoded data removed]",
      "text/plain": [
       "<Figure size 432x288 with 1 Axes>"
      ]
     },
     "metadata": {
      "needs_background": "light"
     },
     "output_type": "display_data"
    }
   ],
   "source": [
    "maxmoc_atl.plot()"
   ]
  },
  {
   "cell_type": "code",
   "execution_count": 22,
   "metadata": {},
   "outputs": [],
   "source": [
    "maxmoc_atl = amoc.sel(yq=slice(20.0, 80.0), z_i=slice(500.0, 2500.0)).max(dim=['yq', 'z_i'])"
   ]
  },
  {
   "cell_type": "code",
   "execution_count": 23,
   "metadata": {},
   "outputs": [
    {
     "data": {
      "text/plain": [
       "[<matplotlib.lines.Line2D at 0x2ad484d68340>]"
      ]
     },
     "execution_count": 23,
     "metadata": {},
     "output_type": "execute_result"
    },
    {
     "data": {
      "image/png": "[encoded data removed]",
      "text/plain": [
       "<Figure size 432x288 with 1 Axes>"
      ]
     },
     "metadata": {
      "needs_background": "light"
     },
     "output_type": "display_data"
    }
   ],
   "source": [
    "maxmoc_atl.plot()"
   ]
  },
  {
   "cell_type": "markdown",
   "metadata": {},
   "source": [
    "## Misc options"
   ]
  },
  {
   "cell_type": "markdown",
   "metadata": {},
   "source": [
    "xoverturning also have more specialized options such as `remove_hml` that is used to remove the signal ov `vhml` and a `rotate` option attempting to rotate to true north. This latest option is still in progress and will be updated. "
   ]
  }
 ],
 "metadata": {
  "kernelspec": {
   "display_name": "Py3-repro4",
   "language": "python",
   "name": "repro"
  },
  "language_info": {
   "codemirror_mode": {
    "name": "ipython",
    "version": 3
   },
   "file_extension": ".py",
   "mimetype": "text/x-python",
   "name": "python",
   "nbconvert_exporter": "python",
   "pygments_lexer": "ipython3",
   "version": "3.8.5"
  }
 },
 "nbformat": 4,
 "nbformat_minor": 4
}
